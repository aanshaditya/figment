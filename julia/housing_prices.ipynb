{
 "cells": [
  {
   "cell_type": "markdown",
   "metadata": {},
   "source": [
    "# Kaggle: Housing Prices\n",
    "\n",
    "Kaggle housing prices challenge in Julia.  \n",
    "This is an attempt to complete the kaggle housing prices challenge, described [here](https://www.kaggle.com/c/house-prices-advanced-regression-techniques/data), with the Julia language.\n",
    "\n",
    "I do not have any experience with Julia, so I'm relying on tutorials that can be found on [JuliaBox](https://juliabox.com/) to guide me in data processing, plotting, and analysis ([here](https://github.com/JuliaComputing/JuliaBoxTutorials/blob/master/introductory-tutorials/broader-topics-and-ecosystem) they are on GitHub).  \n",
    "This will mirror other work that I have tried for this challenge that uses Python (with which I'm much more familiar).\n",
    "\n",
    "This notebook is a continuation of the notebooks featured in the figment `python/` directory.  Here, we explore the same Kaggle [challenge](https://www.kaggle.com/c/house-prices-advanced-regression-techniques),\n",
    "but we are using `Julia` instead of `python`!\n",
    "\n",
    "Since this isn't a unique challenge, I'll refer you to the python notebooks for the exploratory analysis.  For this notebook, I will mostly be playing around with `Julia` (trying to learn it) and specifically, the `Flux` module."
   ]
  },
  {
   "cell_type": "markdown",
   "metadata": {},
   "source": [
    "To get started, let's clone the repository into JuliaBox so that we have access to the data.\n",
    "\n",
    "_Using the 'terminal' from JuliaBox, it is possible to clone the repository into your account and then work from the notebook within the repository directly!_\n",
    "\n",
    "```\n",
    "cd /home/jrun\n",
    "git clone https://github.com/yourname/figment.git\n",
    "cp -R /home/jrun/figment /mnt/juliabox\n",
    "```\n",
    "\n",
    "Then you can load this notebook directly from the repo."
   ]
  },
  {
   "cell_type": "markdown",
   "metadata": {},
   "source": [
    "First, let's load some modules that we will use."
   ]
  },
  {
   "cell_type": "code",
   "execution_count": 7,
   "metadata": {},
   "outputs": [
    {
     "name": "stdout",
     "output_type": "stream",
     "text": [
      "\u001b[32m\u001b[1m Resolving\u001b[22m\u001b[39m package versions...\n",
      "\u001b[32m\u001b[1m  Updating\u001b[22m\u001b[39m `~/.julia/environments/v1.0/Project.toml`\n",
      "\u001b[90m [no changes]\u001b[39m\n",
      "\u001b[32m\u001b[1m  Updating\u001b[22m\u001b[39m `~/.julia/environments/v1.0/Manifest.toml`\n",
      "\u001b[90m [no changes]\u001b[39m\n",
      "\u001b[32m\u001b[1m Resolving\u001b[22m\u001b[39m package versions...\n",
      "\u001b[32m\u001b[1m Installed\u001b[22m\u001b[39m Parsers ─ v0.2.10\n",
      "\u001b[32m\u001b[1m Installed\u001b[22m\u001b[39m CSV ───── v0.4.2\n",
      "\u001b[32m\u001b[1m  Updating\u001b[22m\u001b[39m `~/.julia/environments/v1.0/Project.toml`\n",
      " \u001b[90m [336ed68f]\u001b[39m\u001b[92m + CSV v0.4.2\u001b[39m\n",
      "\u001b[32m\u001b[1m  Updating\u001b[22m\u001b[39m `~/.julia/environments/v1.0/Manifest.toml`\n",
      " \u001b[90m [336ed68f]\u001b[39m\u001b[92m + CSV v0.4.2\u001b[39m\n",
      " \u001b[90m [69de0a69]\u001b[39m\u001b[92m + Parsers v0.2.10\u001b[39m\n"
     ]
    }
   ],
   "source": [
    "import Pkg\n",
    "Pkg.add(\"DataFrames\")  # to access a module if it isn't available\n",
    "Pkg.add(\"CSV\")"
   ]
  },
  {
   "cell_type": "code",
   "execution_count": 8,
   "metadata": {},
   "outputs": [
    {
     "name": "stderr",
     "output_type": "stream",
     "text": [
      "┌ Info: Precompiling CSV [336ed68f-0bac-5ca0-87d4-7b16caf5d00b]\n",
      "└ @ Base loading.jl:1189\n"
     ]
    }
   ],
   "source": [
    "using Flux        # ML library\n",
    "using DataFrames  # handling data\n",
    "using PyPlot      # plotting library with which I'm very familiar\n",
    "using CSV         # reading csv file"
   ]
  },
  {
   "cell_type": "markdown",
   "metadata": {},
   "source": [
    "The data is stored in this local repository, so let's access it and start looking at it!\n",
    "\n",
    "_NB: I couldn't get `readcsv` to work, so I'm using the CSV module instead_"
   ]
  },
  {
   "cell_type": "code",
   "execution_count": 11,
   "metadata": {},
   "outputs": [
    {
     "data": {
      "text/html": [
       "<table class=\"data-frame\"><thead><tr><th></th><th>Id</th><th>MSSubClass</th><th>MSZoning</th><th>LotFrontage</th><th>LotArea</th><th>Street</th><th>Alley</th><th>LotShape</th><th>LandContour</th><th>Utilities</th><th>LotConfig</th><th>LandSlope</th><th>Neighborhood</th><th>Condition1</th><th>Condition2</th><th>BldgType</th><th>HouseStyle</th><th>OverallQual</th><th>OverallCond</th><th>YearBuilt</th><th>YearRemodAdd</th><th>RoofStyle</th><th>RoofMatl</th><th>Exterior1st</th><th>Exterior2nd</th><th>MasVnrType</th><th>MasVnrArea</th><th>ExterQual</th><th>ExterCond</th><th>Foundation</th><th>BsmtQual</th><th>BsmtCond</th><th>BsmtExposure</th><th>BsmtFinType1</th><th>BsmtFinSF1</th><th>BsmtFinType2</th><th>BsmtFinSF2</th><th>BsmtUnfSF</th><th>TotalBsmtSF</th><th>Heating</th><th>HeatingQC</th><th>CentralAir</th><th>Electrical</th><th>1stFlrSF</th><th>2ndFlrSF</th><th>LowQualFinSF</th><th>GrLivArea</th><th>BsmtFullBath</th><th>BsmtHalfBath</th><th>FullBath</th><th>HalfBath</th><th>BedroomAbvGr</th><th>KitchenAbvGr</th><th>KitchenQual</th><th>TotRmsAbvGrd</th><th>Functional</th><th>Fireplaces</th><th>FireplaceQu</th><th>GarageType</th><th>GarageYrBlt</th><th>GarageFinish</th><th>GarageCars</th><th>GarageArea</th><th>GarageQual</th><th>GarageCond</th><th>PavedDrive</th><th>WoodDeckSF</th><th>OpenPorchSF</th><th>EnclosedPorch</th><th>3SsnPorch</th><th>ScreenPorch</th><th>PoolArea</th><th>PoolQC</th><th>Fence</th><th>MiscFeature</th><th>MiscVal</th><th>MoSold</th><th>YrSold</th><th>SaleType</th><th>SaleCondition</th><th>SalePrice</th></tr><tr><th></th><th>Int64⍰</th><th>Int64⍰</th><th>String⍰</th><th>String⍰</th><th>Int64⍰</th><th>String⍰</th><th>String⍰</th><th>String⍰</th><th>String⍰</th><th>String⍰</th><th>String⍰</th><th>String⍰</th><th>String⍰</th><th>String⍰</th><th>String⍰</th><th>String⍰</th><th>String⍰</th><th>Int64⍰</th><th>Int64⍰</th><th>Int64⍰</th><th>Int64⍰</th><th>String⍰</th><th>String⍰</th><th>String⍰</th><th>String⍰</th><th>String⍰</th><th>String⍰</th><th>String⍰</th><th>String⍰</th><th>String⍰</th><th>String⍰</th><th>String⍰</th><th>String⍰</th><th>String⍰</th><th>Int64⍰</th><th>String⍰</th><th>Int64⍰</th><th>Int64⍰</th><th>Int64⍰</th><th>String⍰</th><th>String⍰</th><th>String⍰</th><th>String⍰</th><th>Int64⍰</th><th>Int64⍰</th><th>Int64⍰</th><th>Int64⍰</th><th>Int64⍰</th><th>Int64⍰</th><th>Int64⍰</th><th>Int64⍰</th><th>Int64⍰</th><th>Int64⍰</th><th>String⍰</th><th>Int64⍰</th><th>String⍰</th><th>Int64⍰</th><th>String⍰</th><th>String⍰</th><th>String⍰</th><th>String⍰</th><th>Int64⍰</th><th>Int64⍰</th><th>String⍰</th><th>String⍰</th><th>String⍰</th><th>Int64⍰</th><th>Int64⍰</th><th>Int64⍰</th><th>Int64⍰</th><th>Int64⍰</th><th>Int64⍰</th><th>String⍰</th><th>String⍰</th><th>String⍰</th><th>Int64⍰</th><th>Int64⍰</th><th>Int64⍰</th><th>String⍰</th><th>String⍰</th><th>Int64⍰</th></tr></thead><tbody><tr><th>1</th><td>1</td><td>60</td><td>RL</td><td>65</td><td>8450</td><td>Pave</td><td>NA</td><td>Reg</td><td>Lvl</td><td>AllPub</td><td>Inside</td><td>Gtl</td><td>CollgCr</td><td>Norm</td><td>Norm</td><td>1Fam</td><td>2Story</td><td>7</td><td>5</td><td>2003</td><td>2003</td><td>Gable</td><td>CompShg</td><td>VinylSd</td><td>VinylSd</td><td>BrkFace</td><td>196</td><td>Gd</td><td>TA</td><td>PConc</td><td>Gd</td><td>TA</td><td>No</td><td>GLQ</td><td>706</td><td>Unf</td><td>0</td><td>150</td><td>856</td><td>GasA</td><td>Ex</td><td>Y</td><td>SBrkr</td><td>856</td><td>854</td><td>0</td><td>1710</td><td>1</td><td>0</td><td>2</td><td>1</td><td>3</td><td>1</td><td>Gd</td><td>8</td><td>Typ</td><td>0</td><td>NA</td><td>Attchd</td><td>2003</td><td>RFn</td><td>2</td><td>548</td><td>TA</td><td>TA</td><td>Y</td><td>0</td><td>61</td><td>0</td><td>0</td><td>0</td><td>0</td><td>NA</td><td>NA</td><td>NA</td><td>0</td><td>2</td><td>2008</td><td>WD</td><td>Normal</td><td>208500</td></tr><tr><th>2</th><td>2</td><td>20</td><td>RL</td><td>80</td><td>9600</td><td>Pave</td><td>NA</td><td>Reg</td><td>Lvl</td><td>AllPub</td><td>FR2</td><td>Gtl</td><td>Veenker</td><td>Feedr</td><td>Norm</td><td>1Fam</td><td>1Story</td><td>6</td><td>8</td><td>1976</td><td>1976</td><td>Gable</td><td>CompShg</td><td>MetalSd</td><td>MetalSd</td><td>None</td><td>0</td><td>TA</td><td>TA</td><td>CBlock</td><td>Gd</td><td>TA</td><td>Gd</td><td>ALQ</td><td>978</td><td>Unf</td><td>0</td><td>284</td><td>1262</td><td>GasA</td><td>Ex</td><td>Y</td><td>SBrkr</td><td>1262</td><td>0</td><td>0</td><td>1262</td><td>0</td><td>1</td><td>2</td><td>0</td><td>3</td><td>1</td><td>TA</td><td>6</td><td>Typ</td><td>1</td><td>TA</td><td>Attchd</td><td>1976</td><td>RFn</td><td>2</td><td>460</td><td>TA</td><td>TA</td><td>Y</td><td>298</td><td>0</td><td>0</td><td>0</td><td>0</td><td>0</td><td>NA</td><td>NA</td><td>NA</td><td>0</td><td>5</td><td>2007</td><td>WD</td><td>Normal</td><td>181500</td></tr><tr><th>3</th><td>3</td><td>60</td><td>RL</td><td>68</td><td>11250</td><td>Pave</td><td>NA</td><td>IR1</td><td>Lvl</td><td>AllPub</td><td>Inside</td><td>Gtl</td><td>CollgCr</td><td>Norm</td><td>Norm</td><td>1Fam</td><td>2Story</td><td>7</td><td>5</td><td>2001</td><td>2002</td><td>Gable</td><td>CompShg</td><td>VinylSd</td><td>VinylSd</td><td>BrkFace</td><td>162</td><td>Gd</td><td>TA</td><td>PConc</td><td>Gd</td><td>TA</td><td>Mn</td><td>GLQ</td><td>486</td><td>Unf</td><td>0</td><td>434</td><td>920</td><td>GasA</td><td>Ex</td><td>Y</td><td>SBrkr</td><td>920</td><td>866</td><td>0</td><td>1786</td><td>1</td><td>0</td><td>2</td><td>1</td><td>3</td><td>1</td><td>Gd</td><td>6</td><td>Typ</td><td>1</td><td>TA</td><td>Attchd</td><td>2001</td><td>RFn</td><td>2</td><td>608</td><td>TA</td><td>TA</td><td>Y</td><td>0</td><td>42</td><td>0</td><td>0</td><td>0</td><td>0</td><td>NA</td><td>NA</td><td>NA</td><td>0</td><td>9</td><td>2008</td><td>WD</td><td>Normal</td><td>223500</td></tr><tr><th>4</th><td>4</td><td>70</td><td>RL</td><td>60</td><td>9550</td><td>Pave</td><td>NA</td><td>IR1</td><td>Lvl</td><td>AllPub</td><td>Corner</td><td>Gtl</td><td>Crawfor</td><td>Norm</td><td>Norm</td><td>1Fam</td><td>2Story</td><td>7</td><td>5</td><td>1915</td><td>1970</td><td>Gable</td><td>CompShg</td><td>Wd Sdng</td><td>Wd Shng</td><td>None</td><td>0</td><td>TA</td><td>TA</td><td>BrkTil</td><td>TA</td><td>Gd</td><td>No</td><td>ALQ</td><td>216</td><td>Unf</td><td>0</td><td>540</td><td>756</td><td>GasA</td><td>Gd</td><td>Y</td><td>SBrkr</td><td>961</td><td>756</td><td>0</td><td>1717</td><td>1</td><td>0</td><td>1</td><td>0</td><td>3</td><td>1</td><td>Gd</td><td>7</td><td>Typ</td><td>1</td><td>Gd</td><td>Detchd</td><td>1998</td><td>Unf</td><td>3</td><td>642</td><td>TA</td><td>TA</td><td>Y</td><td>0</td><td>35</td><td>272</td><td>0</td><td>0</td><td>0</td><td>NA</td><td>NA</td><td>NA</td><td>0</td><td>2</td><td>2006</td><td>WD</td><td>Abnorml</td><td>140000</td></tr><tr><th>5</th><td>5</td><td>60</td><td>RL</td><td>84</td><td>14260</td><td>Pave</td><td>NA</td><td>IR1</td><td>Lvl</td><td>AllPub</td><td>FR2</td><td>Gtl</td><td>NoRidge</td><td>Norm</td><td>Norm</td><td>1Fam</td><td>2Story</td><td>8</td><td>5</td><td>2000</td><td>2000</td><td>Gable</td><td>CompShg</td><td>VinylSd</td><td>VinylSd</td><td>BrkFace</td><td>350</td><td>Gd</td><td>TA</td><td>PConc</td><td>Gd</td><td>TA</td><td>Av</td><td>GLQ</td><td>655</td><td>Unf</td><td>0</td><td>490</td><td>1145</td><td>GasA</td><td>Ex</td><td>Y</td><td>SBrkr</td><td>1145</td><td>1053</td><td>0</td><td>2198</td><td>1</td><td>0</td><td>2</td><td>1</td><td>4</td><td>1</td><td>Gd</td><td>9</td><td>Typ</td><td>1</td><td>TA</td><td>Attchd</td><td>2000</td><td>RFn</td><td>3</td><td>836</td><td>TA</td><td>TA</td><td>Y</td><td>192</td><td>84</td><td>0</td><td>0</td><td>0</td><td>0</td><td>NA</td><td>NA</td><td>NA</td><td>0</td><td>12</td><td>2008</td><td>WD</td><td>Normal</td><td>250000</td></tr><tr><th>6</th><td>6</td><td>50</td><td>RL</td><td>85</td><td>14115</td><td>Pave</td><td>NA</td><td>IR1</td><td>Lvl</td><td>AllPub</td><td>Inside</td><td>Gtl</td><td>Mitchel</td><td>Norm</td><td>Norm</td><td>1Fam</td><td>1.5Fin</td><td>5</td><td>5</td><td>1993</td><td>1995</td><td>Gable</td><td>CompShg</td><td>VinylSd</td><td>VinylSd</td><td>None</td><td>0</td><td>TA</td><td>TA</td><td>Wood</td><td>Gd</td><td>TA</td><td>No</td><td>GLQ</td><td>732</td><td>Unf</td><td>0</td><td>64</td><td>796</td><td>GasA</td><td>Ex</td><td>Y</td><td>SBrkr</td><td>796</td><td>566</td><td>0</td><td>1362</td><td>1</td><td>0</td><td>1</td><td>1</td><td>1</td><td>1</td><td>TA</td><td>5</td><td>Typ</td><td>0</td><td>NA</td><td>Attchd</td><td>1993</td><td>Unf</td><td>2</td><td>480</td><td>TA</td><td>TA</td><td>Y</td><td>40</td><td>30</td><td>0</td><td>320</td><td>0</td><td>0</td><td>NA</td><td>MnPrv</td><td>Shed</td><td>700</td><td>10</td><td>2009</td><td>WD</td><td>Normal</td><td>143000</td></tr><tr><th>7</th><td>7</td><td>20</td><td>RL</td><td>75</td><td>10084</td><td>Pave</td><td>NA</td><td>Reg</td><td>Lvl</td><td>AllPub</td><td>Inside</td><td>Gtl</td><td>Somerst</td><td>Norm</td><td>Norm</td><td>1Fam</td><td>1Story</td><td>8</td><td>5</td><td>2004</td><td>2005</td><td>Gable</td><td>CompShg</td><td>VinylSd</td><td>VinylSd</td><td>Stone</td><td>186</td><td>Gd</td><td>TA</td><td>PConc</td><td>Ex</td><td>TA</td><td>Av</td><td>GLQ</td><td>1369</td><td>Unf</td><td>0</td><td>317</td><td>1686</td><td>GasA</td><td>Ex</td><td>Y</td><td>SBrkr</td><td>1694</td><td>0</td><td>0</td><td>1694</td><td>1</td><td>0</td><td>2</td><td>0</td><td>3</td><td>1</td><td>Gd</td><td>7</td><td>Typ</td><td>1</td><td>Gd</td><td>Attchd</td><td>2004</td><td>RFn</td><td>2</td><td>636</td><td>TA</td><td>TA</td><td>Y</td><td>255</td><td>57</td><td>0</td><td>0</td><td>0</td><td>0</td><td>NA</td><td>NA</td><td>NA</td><td>0</td><td>8</td><td>2007</td><td>WD</td><td>Normal</td><td>307000</td></tr><tr><th>8</th><td>8</td><td>60</td><td>RL</td><td>NA</td><td>10382</td><td>Pave</td><td>NA</td><td>IR1</td><td>Lvl</td><td>AllPub</td><td>Corner</td><td>Gtl</td><td>NWAmes</td><td>PosN</td><td>Norm</td><td>1Fam</td><td>2Story</td><td>7</td><td>6</td><td>1973</td><td>1973</td><td>Gable</td><td>CompShg</td><td>HdBoard</td><td>HdBoard</td><td>Stone</td><td>240</td><td>TA</td><td>TA</td><td>CBlock</td><td>Gd</td><td>TA</td><td>Mn</td><td>ALQ</td><td>859</td><td>BLQ</td><td>32</td><td>216</td><td>1107</td><td>GasA</td><td>Ex</td><td>Y</td><td>SBrkr</td><td>1107</td><td>983</td><td>0</td><td>2090</td><td>1</td><td>0</td><td>2</td><td>1</td><td>3</td><td>1</td><td>TA</td><td>7</td><td>Typ</td><td>2</td><td>TA</td><td>Attchd</td><td>1973</td><td>RFn</td><td>2</td><td>484</td><td>TA</td><td>TA</td><td>Y</td><td>235</td><td>204</td><td>228</td><td>0</td><td>0</td><td>0</td><td>NA</td><td>NA</td><td>Shed</td><td>350</td><td>11</td><td>2009</td><td>WD</td><td>Normal</td><td>200000</td></tr><tr><th>9</th><td>9</td><td>50</td><td>RM</td><td>51</td><td>6120</td><td>Pave</td><td>NA</td><td>Reg</td><td>Lvl</td><td>AllPub</td><td>Inside</td><td>Gtl</td><td>OldTown</td><td>Artery</td><td>Norm</td><td>1Fam</td><td>1.5Fin</td><td>7</td><td>5</td><td>1931</td><td>1950</td><td>Gable</td><td>CompShg</td><td>BrkFace</td><td>Wd Shng</td><td>None</td><td>0</td><td>TA</td><td>TA</td><td>BrkTil</td><td>TA</td><td>TA</td><td>No</td><td>Unf</td><td>0</td><td>Unf</td><td>0</td><td>952</td><td>952</td><td>GasA</td><td>Gd</td><td>Y</td><td>FuseF</td><td>1022</td><td>752</td><td>0</td><td>1774</td><td>0</td><td>0</td><td>2</td><td>0</td><td>2</td><td>2</td><td>TA</td><td>8</td><td>Min1</td><td>2</td><td>TA</td><td>Detchd</td><td>1931</td><td>Unf</td><td>2</td><td>468</td><td>Fa</td><td>TA</td><td>Y</td><td>90</td><td>0</td><td>205</td><td>0</td><td>0</td><td>0</td><td>NA</td><td>NA</td><td>NA</td><td>0</td><td>4</td><td>2008</td><td>WD</td><td>Abnorml</td><td>129900</td></tr><tr><th>10</th><td>10</td><td>190</td><td>RL</td><td>50</td><td>7420</td><td>Pave</td><td>NA</td><td>Reg</td><td>Lvl</td><td>AllPub</td><td>Corner</td><td>Gtl</td><td>BrkSide</td><td>Artery</td><td>Artery</td><td>2fmCon</td><td>1.5Unf</td><td>5</td><td>6</td><td>1939</td><td>1950</td><td>Gable</td><td>CompShg</td><td>MetalSd</td><td>MetalSd</td><td>None</td><td>0</td><td>TA</td><td>TA</td><td>BrkTil</td><td>TA</td><td>TA</td><td>No</td><td>GLQ</td><td>851</td><td>Unf</td><td>0</td><td>140</td><td>991</td><td>GasA</td><td>Ex</td><td>Y</td><td>SBrkr</td><td>1077</td><td>0</td><td>0</td><td>1077</td><td>1</td><td>0</td><td>1</td><td>0</td><td>2</td><td>2</td><td>TA</td><td>5</td><td>Typ</td><td>2</td><td>TA</td><td>Attchd</td><td>1939</td><td>RFn</td><td>1</td><td>205</td><td>Gd</td><td>TA</td><td>Y</td><td>0</td><td>4</td><td>0</td><td>0</td><td>0</td><td>0</td><td>NA</td><td>NA</td><td>NA</td><td>0</td><td>1</td><td>2008</td><td>WD</td><td>Normal</td><td>118000</td></tr><tr><th>11</th><td>11</td><td>20</td><td>RL</td><td>70</td><td>11200</td><td>Pave</td><td>NA</td><td>Reg</td><td>Lvl</td><td>AllPub</td><td>Inside</td><td>Gtl</td><td>Sawyer</td><td>Norm</td><td>Norm</td><td>1Fam</td><td>1Story</td><td>5</td><td>5</td><td>1965</td><td>1965</td><td>Hip</td><td>CompShg</td><td>HdBoard</td><td>HdBoard</td><td>None</td><td>0</td><td>TA</td><td>TA</td><td>CBlock</td><td>TA</td><td>TA</td><td>No</td><td>Rec</td><td>906</td><td>Unf</td><td>0</td><td>134</td><td>1040</td><td>GasA</td><td>Ex</td><td>Y</td><td>SBrkr</td><td>1040</td><td>0</td><td>0</td><td>1040</td><td>1</td><td>0</td><td>1</td><td>0</td><td>3</td><td>1</td><td>TA</td><td>5</td><td>Typ</td><td>0</td><td>NA</td><td>Detchd</td><td>1965</td><td>Unf</td><td>1</td><td>384</td><td>TA</td><td>TA</td><td>Y</td><td>0</td><td>0</td><td>0</td><td>0</td><td>0</td><td>0</td><td>NA</td><td>NA</td><td>NA</td><td>0</td><td>2</td><td>2008</td><td>WD</td><td>Normal</td><td>129500</td></tr><tr><th>12</th><td>12</td><td>60</td><td>RL</td><td>85</td><td>11924</td><td>Pave</td><td>NA</td><td>IR1</td><td>Lvl</td><td>AllPub</td><td>Inside</td><td>Gtl</td><td>NridgHt</td><td>Norm</td><td>Norm</td><td>1Fam</td><td>2Story</td><td>9</td><td>5</td><td>2005</td><td>2006</td><td>Hip</td><td>CompShg</td><td>WdShing</td><td>Wd Shng</td><td>Stone</td><td>286</td><td>Ex</td><td>TA</td><td>PConc</td><td>Ex</td><td>TA</td><td>No</td><td>GLQ</td><td>998</td><td>Unf</td><td>0</td><td>177</td><td>1175</td><td>GasA</td><td>Ex</td><td>Y</td><td>SBrkr</td><td>1182</td><td>1142</td><td>0</td><td>2324</td><td>1</td><td>0</td><td>3</td><td>0</td><td>4</td><td>1</td><td>Ex</td><td>11</td><td>Typ</td><td>2</td><td>Gd</td><td>BuiltIn</td><td>2005</td><td>Fin</td><td>3</td><td>736</td><td>TA</td><td>TA</td><td>Y</td><td>147</td><td>21</td><td>0</td><td>0</td><td>0</td><td>0</td><td>NA</td><td>NA</td><td>NA</td><td>0</td><td>7</td><td>2006</td><td>New</td><td>Partial</td><td>345000</td></tr><tr><th>13</th><td>13</td><td>20</td><td>RL</td><td>NA</td><td>12968</td><td>Pave</td><td>NA</td><td>IR2</td><td>Lvl</td><td>AllPub</td><td>Inside</td><td>Gtl</td><td>Sawyer</td><td>Norm</td><td>Norm</td><td>1Fam</td><td>1Story</td><td>5</td><td>6</td><td>1962</td><td>1962</td><td>Hip</td><td>CompShg</td><td>HdBoard</td><td>Plywood</td><td>None</td><td>0</td><td>TA</td><td>TA</td><td>CBlock</td><td>TA</td><td>TA</td><td>No</td><td>ALQ</td><td>737</td><td>Unf</td><td>0</td><td>175</td><td>912</td><td>GasA</td><td>TA</td><td>Y</td><td>SBrkr</td><td>912</td><td>0</td><td>0</td><td>912</td><td>1</td><td>0</td><td>1</td><td>0</td><td>2</td><td>1</td><td>TA</td><td>4</td><td>Typ</td><td>0</td><td>NA</td><td>Detchd</td><td>1962</td><td>Unf</td><td>1</td><td>352</td><td>TA</td><td>TA</td><td>Y</td><td>140</td><td>0</td><td>0</td><td>0</td><td>176</td><td>0</td><td>NA</td><td>NA</td><td>NA</td><td>0</td><td>9</td><td>2008</td><td>WD</td><td>Normal</td><td>144000</td></tr><tr><th>14</th><td>14</td><td>20</td><td>RL</td><td>91</td><td>10652</td><td>Pave</td><td>NA</td><td>IR1</td><td>Lvl</td><td>AllPub</td><td>Inside</td><td>Gtl</td><td>CollgCr</td><td>Norm</td><td>Norm</td><td>1Fam</td><td>1Story</td><td>7</td><td>5</td><td>2006</td><td>2007</td><td>Gable</td><td>CompShg</td><td>VinylSd</td><td>VinylSd</td><td>Stone</td><td>306</td><td>Gd</td><td>TA</td><td>PConc</td><td>Gd</td><td>TA</td><td>Av</td><td>Unf</td><td>0</td><td>Unf</td><td>0</td><td>1494</td><td>1494</td><td>GasA</td><td>Ex</td><td>Y</td><td>SBrkr</td><td>1494</td><td>0</td><td>0</td><td>1494</td><td>0</td><td>0</td><td>2</td><td>0</td><td>3</td><td>1</td><td>Gd</td><td>7</td><td>Typ</td><td>1</td><td>Gd</td><td>Attchd</td><td>2006</td><td>RFn</td><td>3</td><td>840</td><td>TA</td><td>TA</td><td>Y</td><td>160</td><td>33</td><td>0</td><td>0</td><td>0</td><td>0</td><td>NA</td><td>NA</td><td>NA</td><td>0</td><td>8</td><td>2007</td><td>New</td><td>Partial</td><td>279500</td></tr><tr><th>15</th><td>15</td><td>20</td><td>RL</td><td>NA</td><td>10920</td><td>Pave</td><td>NA</td><td>IR1</td><td>Lvl</td><td>AllPub</td><td>Corner</td><td>Gtl</td><td>NAmes</td><td>Norm</td><td>Norm</td><td>1Fam</td><td>1Story</td><td>6</td><td>5</td><td>1960</td><td>1960</td><td>Hip</td><td>CompShg</td><td>MetalSd</td><td>MetalSd</td><td>BrkFace</td><td>212</td><td>TA</td><td>TA</td><td>CBlock</td><td>TA</td><td>TA</td><td>No</td><td>BLQ</td><td>733</td><td>Unf</td><td>0</td><td>520</td><td>1253</td><td>GasA</td><td>TA</td><td>Y</td><td>SBrkr</td><td>1253</td><td>0</td><td>0</td><td>1253</td><td>1</td><td>0</td><td>1</td><td>1</td><td>2</td><td>1</td><td>TA</td><td>5</td><td>Typ</td><td>1</td><td>Fa</td><td>Attchd</td><td>1960</td><td>RFn</td><td>1</td><td>352</td><td>TA</td><td>TA</td><td>Y</td><td>0</td><td>213</td><td>176</td><td>0</td><td>0</td><td>0</td><td>NA</td><td>GdWo</td><td>NA</td><td>0</td><td>5</td><td>2008</td><td>WD</td><td>Normal</td><td>157000</td></tr><tr><th>16</th><td>16</td><td>45</td><td>RM</td><td>51</td><td>6120</td><td>Pave</td><td>NA</td><td>Reg</td><td>Lvl</td><td>AllPub</td><td>Corner</td><td>Gtl</td><td>BrkSide</td><td>Norm</td><td>Norm</td><td>1Fam</td><td>1.5Unf</td><td>7</td><td>8</td><td>1929</td><td>2001</td><td>Gable</td><td>CompShg</td><td>Wd Sdng</td><td>Wd Sdng</td><td>None</td><td>0</td><td>TA</td><td>TA</td><td>BrkTil</td><td>TA</td><td>TA</td><td>No</td><td>Unf</td><td>0</td><td>Unf</td><td>0</td><td>832</td><td>832</td><td>GasA</td><td>Ex</td><td>Y</td><td>FuseA</td><td>854</td><td>0</td><td>0</td><td>854</td><td>0</td><td>0</td><td>1</td><td>0</td><td>2</td><td>1</td><td>TA</td><td>5</td><td>Typ</td><td>0</td><td>NA</td><td>Detchd</td><td>1991</td><td>Unf</td><td>2</td><td>576</td><td>TA</td><td>TA</td><td>Y</td><td>48</td><td>112</td><td>0</td><td>0</td><td>0</td><td>0</td><td>NA</td><td>GdPrv</td><td>NA</td><td>0</td><td>7</td><td>2007</td><td>WD</td><td>Normal</td><td>132000</td></tr><tr><th>17</th><td>17</td><td>20</td><td>RL</td><td>NA</td><td>11241</td><td>Pave</td><td>NA</td><td>IR1</td><td>Lvl</td><td>AllPub</td><td>CulDSac</td><td>Gtl</td><td>NAmes</td><td>Norm</td><td>Norm</td><td>1Fam</td><td>1Story</td><td>6</td><td>7</td><td>1970</td><td>1970</td><td>Gable</td><td>CompShg</td><td>Wd Sdng</td><td>Wd Sdng</td><td>BrkFace</td><td>180</td><td>TA</td><td>TA</td><td>CBlock</td><td>TA</td><td>TA</td><td>No</td><td>ALQ</td><td>578</td><td>Unf</td><td>0</td><td>426</td><td>1004</td><td>GasA</td><td>Ex</td><td>Y</td><td>SBrkr</td><td>1004</td><td>0</td><td>0</td><td>1004</td><td>1</td><td>0</td><td>1</td><td>0</td><td>2</td><td>1</td><td>TA</td><td>5</td><td>Typ</td><td>1</td><td>TA</td><td>Attchd</td><td>1970</td><td>Fin</td><td>2</td><td>480</td><td>TA</td><td>TA</td><td>Y</td><td>0</td><td>0</td><td>0</td><td>0</td><td>0</td><td>0</td><td>NA</td><td>NA</td><td>Shed</td><td>700</td><td>3</td><td>2010</td><td>WD</td><td>Normal</td><td>149000</td></tr><tr><th>18</th><td>18</td><td>90</td><td>RL</td><td>72</td><td>10791</td><td>Pave</td><td>NA</td><td>Reg</td><td>Lvl</td><td>AllPub</td><td>Inside</td><td>Gtl</td><td>Sawyer</td><td>Norm</td><td>Norm</td><td>Duplex</td><td>1Story</td><td>4</td><td>5</td><td>1967</td><td>1967</td><td>Gable</td><td>CompShg</td><td>MetalSd</td><td>MetalSd</td><td>None</td><td>0</td><td>TA</td><td>TA</td><td>Slab</td><td>NA</td><td>NA</td><td>NA</td><td>NA</td><td>0</td><td>NA</td><td>0</td><td>0</td><td>0</td><td>GasA</td><td>TA</td><td>Y</td><td>SBrkr</td><td>1296</td><td>0</td><td>0</td><td>1296</td><td>0</td><td>0</td><td>2</td><td>0</td><td>2</td><td>2</td><td>TA</td><td>6</td><td>Typ</td><td>0</td><td>NA</td><td>CarPort</td><td>1967</td><td>Unf</td><td>2</td><td>516</td><td>TA</td><td>TA</td><td>Y</td><td>0</td><td>0</td><td>0</td><td>0</td><td>0</td><td>0</td><td>NA</td><td>NA</td><td>Shed</td><td>500</td><td>10</td><td>2006</td><td>WD</td><td>Normal</td><td>90000</td></tr><tr><th>19</th><td>19</td><td>20</td><td>RL</td><td>66</td><td>13695</td><td>Pave</td><td>NA</td><td>Reg</td><td>Lvl</td><td>AllPub</td><td>Inside</td><td>Gtl</td><td>SawyerW</td><td>RRAe</td><td>Norm</td><td>1Fam</td><td>1Story</td><td>5</td><td>5</td><td>2004</td><td>2004</td><td>Gable</td><td>CompShg</td><td>VinylSd</td><td>VinylSd</td><td>None</td><td>0</td><td>TA</td><td>TA</td><td>PConc</td><td>TA</td><td>TA</td><td>No</td><td>GLQ</td><td>646</td><td>Unf</td><td>0</td><td>468</td><td>1114</td><td>GasA</td><td>Ex</td><td>Y</td><td>SBrkr</td><td>1114</td><td>0</td><td>0</td><td>1114</td><td>1</td><td>0</td><td>1</td><td>1</td><td>3</td><td>1</td><td>Gd</td><td>6</td><td>Typ</td><td>0</td><td>NA</td><td>Detchd</td><td>2004</td><td>Unf</td><td>2</td><td>576</td><td>TA</td><td>TA</td><td>Y</td><td>0</td><td>102</td><td>0</td><td>0</td><td>0</td><td>0</td><td>NA</td><td>NA</td><td>NA</td><td>0</td><td>6</td><td>2008</td><td>WD</td><td>Normal</td><td>159000</td></tr><tr><th>20</th><td>20</td><td>20</td><td>RL</td><td>70</td><td>7560</td><td>Pave</td><td>NA</td><td>Reg</td><td>Lvl</td><td>AllPub</td><td>Inside</td><td>Gtl</td><td>NAmes</td><td>Norm</td><td>Norm</td><td>1Fam</td><td>1Story</td><td>5</td><td>6</td><td>1958</td><td>1965</td><td>Hip</td><td>CompShg</td><td>BrkFace</td><td>Plywood</td><td>None</td><td>0</td><td>TA</td><td>TA</td><td>CBlock</td><td>TA</td><td>TA</td><td>No</td><td>LwQ</td><td>504</td><td>Unf</td><td>0</td><td>525</td><td>1029</td><td>GasA</td><td>TA</td><td>Y</td><td>SBrkr</td><td>1339</td><td>0</td><td>0</td><td>1339</td><td>0</td><td>0</td><td>1</td><td>0</td><td>3</td><td>1</td><td>TA</td><td>6</td><td>Min1</td><td>0</td><td>NA</td><td>Attchd</td><td>1958</td><td>Unf</td><td>1</td><td>294</td><td>TA</td><td>TA</td><td>Y</td><td>0</td><td>0</td><td>0</td><td>0</td><td>0</td><td>0</td><td>NA</td><td>MnPrv</td><td>NA</td><td>0</td><td>5</td><td>2009</td><td>COD</td><td>Abnorml</td><td>139000</td></tr><tr><th>21</th><td>21</td><td>60</td><td>RL</td><td>101</td><td>14215</td><td>Pave</td><td>NA</td><td>IR1</td><td>Lvl</td><td>AllPub</td><td>Corner</td><td>Gtl</td><td>NridgHt</td><td>Norm</td><td>Norm</td><td>1Fam</td><td>2Story</td><td>8</td><td>5</td><td>2005</td><td>2006</td><td>Gable</td><td>CompShg</td><td>VinylSd</td><td>VinylSd</td><td>BrkFace</td><td>380</td><td>Gd</td><td>TA</td><td>PConc</td><td>Ex</td><td>TA</td><td>Av</td><td>Unf</td><td>0</td><td>Unf</td><td>0</td><td>1158</td><td>1158</td><td>GasA</td><td>Ex</td><td>Y</td><td>SBrkr</td><td>1158</td><td>1218</td><td>0</td><td>2376</td><td>0</td><td>0</td><td>3</td><td>1</td><td>4</td><td>1</td><td>Gd</td><td>9</td><td>Typ</td><td>1</td><td>Gd</td><td>BuiltIn</td><td>2005</td><td>RFn</td><td>3</td><td>853</td><td>TA</td><td>TA</td><td>Y</td><td>240</td><td>154</td><td>0</td><td>0</td><td>0</td><td>0</td><td>NA</td><td>NA</td><td>NA</td><td>0</td><td>11</td><td>2006</td><td>New</td><td>Partial</td><td>325300</td></tr><tr><th>22</th><td>22</td><td>45</td><td>RM</td><td>57</td><td>7449</td><td>Pave</td><td>Grvl</td><td>Reg</td><td>Bnk</td><td>AllPub</td><td>Inside</td><td>Gtl</td><td>IDOTRR</td><td>Norm</td><td>Norm</td><td>1Fam</td><td>1.5Unf</td><td>7</td><td>7</td><td>1930</td><td>1950</td><td>Gable</td><td>CompShg</td><td>Wd Sdng</td><td>Wd Sdng</td><td>None</td><td>0</td><td>TA</td><td>TA</td><td>PConc</td><td>TA</td><td>TA</td><td>No</td><td>Unf</td><td>0</td><td>Unf</td><td>0</td><td>637</td><td>637</td><td>GasA</td><td>Ex</td><td>Y</td><td>FuseF</td><td>1108</td><td>0</td><td>0</td><td>1108</td><td>0</td><td>0</td><td>1</td><td>0</td><td>3</td><td>1</td><td>Gd</td><td>6</td><td>Typ</td><td>1</td><td>Gd</td><td>Attchd</td><td>1930</td><td>Unf</td><td>1</td><td>280</td><td>TA</td><td>TA</td><td>N</td><td>0</td><td>0</td><td>205</td><td>0</td><td>0</td><td>0</td><td>NA</td><td>GdPrv</td><td>NA</td><td>0</td><td>6</td><td>2007</td><td>WD</td><td>Normal</td><td>139400</td></tr><tr><th>23</th><td>23</td><td>20</td><td>RL</td><td>75</td><td>9742</td><td>Pave</td><td>NA</td><td>Reg</td><td>Lvl</td><td>AllPub</td><td>Inside</td><td>Gtl</td><td>CollgCr</td><td>Norm</td><td>Norm</td><td>1Fam</td><td>1Story</td><td>8</td><td>5</td><td>2002</td><td>2002</td><td>Hip</td><td>CompShg</td><td>VinylSd</td><td>VinylSd</td><td>BrkFace</td><td>281</td><td>Gd</td><td>TA</td><td>PConc</td><td>Gd</td><td>TA</td><td>No</td><td>Unf</td><td>0</td><td>Unf</td><td>0</td><td>1777</td><td>1777</td><td>GasA</td><td>Ex</td><td>Y</td><td>SBrkr</td><td>1795</td><td>0</td><td>0</td><td>1795</td><td>0</td><td>0</td><td>2</td><td>0</td><td>3</td><td>1</td><td>Gd</td><td>7</td><td>Typ</td><td>1</td><td>Gd</td><td>Attchd</td><td>2002</td><td>RFn</td><td>2</td><td>534</td><td>TA</td><td>TA</td><td>Y</td><td>171</td><td>159</td><td>0</td><td>0</td><td>0</td><td>0</td><td>NA</td><td>NA</td><td>NA</td><td>0</td><td>9</td><td>2008</td><td>WD</td><td>Normal</td><td>230000</td></tr><tr><th>24</th><td>24</td><td>120</td><td>RM</td><td>44</td><td>4224</td><td>Pave</td><td>NA</td><td>Reg</td><td>Lvl</td><td>AllPub</td><td>Inside</td><td>Gtl</td><td>MeadowV</td><td>Norm</td><td>Norm</td><td>TwnhsE</td><td>1Story</td><td>5</td><td>7</td><td>1976</td><td>1976</td><td>Gable</td><td>CompShg</td><td>CemntBd</td><td>CmentBd</td><td>None</td><td>0</td><td>TA</td><td>TA</td><td>PConc</td><td>Gd</td><td>TA</td><td>No</td><td>GLQ</td><td>840</td><td>Unf</td><td>0</td><td>200</td><td>1040</td><td>GasA</td><td>TA</td><td>Y</td><td>SBrkr</td><td>1060</td><td>0</td><td>0</td><td>1060</td><td>1</td><td>0</td><td>1</td><td>0</td><td>3</td><td>1</td><td>TA</td><td>6</td><td>Typ</td><td>1</td><td>TA</td><td>Attchd</td><td>1976</td><td>Unf</td><td>2</td><td>572</td><td>TA</td><td>TA</td><td>Y</td><td>100</td><td>110</td><td>0</td><td>0</td><td>0</td><td>0</td><td>NA</td><td>NA</td><td>NA</td><td>0</td><td>6</td><td>2007</td><td>WD</td><td>Normal</td><td>129900</td></tr><tr><th>25</th><td>25</td><td>20</td><td>RL</td><td>NA</td><td>8246</td><td>Pave</td><td>NA</td><td>IR1</td><td>Lvl</td><td>AllPub</td><td>Inside</td><td>Gtl</td><td>Sawyer</td><td>Norm</td><td>Norm</td><td>1Fam</td><td>1Story</td><td>5</td><td>8</td><td>1968</td><td>2001</td><td>Gable</td><td>CompShg</td><td>Plywood</td><td>Plywood</td><td>None</td><td>0</td><td>TA</td><td>Gd</td><td>CBlock</td><td>TA</td><td>TA</td><td>Mn</td><td>Rec</td><td>188</td><td>ALQ</td><td>668</td><td>204</td><td>1060</td><td>GasA</td><td>Ex</td><td>Y</td><td>SBrkr</td><td>1060</td><td>0</td><td>0</td><td>1060</td><td>1</td><td>0</td><td>1</td><td>0</td><td>3</td><td>1</td><td>Gd</td><td>6</td><td>Typ</td><td>1</td><td>TA</td><td>Attchd</td><td>1968</td><td>Unf</td><td>1</td><td>270</td><td>TA</td><td>TA</td><td>Y</td><td>406</td><td>90</td><td>0</td><td>0</td><td>0</td><td>0</td><td>NA</td><td>MnPrv</td><td>NA</td><td>0</td><td>5</td><td>2010</td><td>WD</td><td>Normal</td><td>154000</td></tr><tr><th>26</th><td>26</td><td>20</td><td>RL</td><td>110</td><td>14230</td><td>Pave</td><td>NA</td><td>Reg</td><td>Lvl</td><td>AllPub</td><td>Corner</td><td>Gtl</td><td>NridgHt</td><td>Norm</td><td>Norm</td><td>1Fam</td><td>1Story</td><td>8</td><td>5</td><td>2007</td><td>2007</td><td>Gable</td><td>CompShg</td><td>VinylSd</td><td>VinylSd</td><td>Stone</td><td>640</td><td>Gd</td><td>TA</td><td>PConc</td><td>Gd</td><td>TA</td><td>No</td><td>Unf</td><td>0</td><td>Unf</td><td>0</td><td>1566</td><td>1566</td><td>GasA</td><td>Ex</td><td>Y</td><td>SBrkr</td><td>1600</td><td>0</td><td>0</td><td>1600</td><td>0</td><td>0</td><td>2</td><td>0</td><td>3</td><td>1</td><td>Gd</td><td>7</td><td>Typ</td><td>1</td><td>Gd</td><td>Attchd</td><td>2007</td><td>RFn</td><td>3</td><td>890</td><td>TA</td><td>TA</td><td>Y</td><td>0</td><td>56</td><td>0</td><td>0</td><td>0</td><td>0</td><td>NA</td><td>NA</td><td>NA</td><td>0</td><td>7</td><td>2009</td><td>WD</td><td>Normal</td><td>256300</td></tr><tr><th>27</th><td>27</td><td>20</td><td>RL</td><td>60</td><td>7200</td><td>Pave</td><td>NA</td><td>Reg</td><td>Lvl</td><td>AllPub</td><td>Corner</td><td>Gtl</td><td>NAmes</td><td>Norm</td><td>Norm</td><td>1Fam</td><td>1Story</td><td>5</td><td>7</td><td>1951</td><td>2000</td><td>Gable</td><td>CompShg</td><td>Wd Sdng</td><td>Wd Sdng</td><td>None</td><td>0</td><td>TA</td><td>TA</td><td>CBlock</td><td>TA</td><td>TA</td><td>Mn</td><td>BLQ</td><td>234</td><td>Rec</td><td>486</td><td>180</td><td>900</td><td>GasA</td><td>TA</td><td>Y</td><td>SBrkr</td><td>900</td><td>0</td><td>0</td><td>900</td><td>0</td><td>1</td><td>1</td><td>0</td><td>3</td><td>1</td><td>Gd</td><td>5</td><td>Typ</td><td>0</td><td>NA</td><td>Detchd</td><td>2005</td><td>Unf</td><td>2</td><td>576</td><td>TA</td><td>TA</td><td>Y</td><td>222</td><td>32</td><td>0</td><td>0</td><td>0</td><td>0</td><td>NA</td><td>NA</td><td>NA</td><td>0</td><td>5</td><td>2010</td><td>WD</td><td>Normal</td><td>134800</td></tr><tr><th>28</th><td>28</td><td>20</td><td>RL</td><td>98</td><td>11478</td><td>Pave</td><td>NA</td><td>Reg</td><td>Lvl</td><td>AllPub</td><td>Inside</td><td>Gtl</td><td>NridgHt</td><td>Norm</td><td>Norm</td><td>1Fam</td><td>1Story</td><td>8</td><td>5</td><td>2007</td><td>2008</td><td>Gable</td><td>CompShg</td><td>VinylSd</td><td>VinylSd</td><td>Stone</td><td>200</td><td>Gd</td><td>TA</td><td>PConc</td><td>Ex</td><td>TA</td><td>No</td><td>GLQ</td><td>1218</td><td>Unf</td><td>0</td><td>486</td><td>1704</td><td>GasA</td><td>Ex</td><td>Y</td><td>SBrkr</td><td>1704</td><td>0</td><td>0</td><td>1704</td><td>1</td><td>0</td><td>2</td><td>0</td><td>3</td><td>1</td><td>Gd</td><td>7</td><td>Typ</td><td>1</td><td>Gd</td><td>Attchd</td><td>2008</td><td>RFn</td><td>3</td><td>772</td><td>TA</td><td>TA</td><td>Y</td><td>0</td><td>50</td><td>0</td><td>0</td><td>0</td><td>0</td><td>NA</td><td>NA</td><td>NA</td><td>0</td><td>5</td><td>2010</td><td>WD</td><td>Normal</td><td>306000</td></tr><tr><th>29</th><td>29</td><td>20</td><td>RL</td><td>47</td><td>16321</td><td>Pave</td><td>NA</td><td>IR1</td><td>Lvl</td><td>AllPub</td><td>CulDSac</td><td>Gtl</td><td>NAmes</td><td>Norm</td><td>Norm</td><td>1Fam</td><td>1Story</td><td>5</td><td>6</td><td>1957</td><td>1997</td><td>Gable</td><td>CompShg</td><td>MetalSd</td><td>MetalSd</td><td>None</td><td>0</td><td>TA</td><td>TA</td><td>CBlock</td><td>TA</td><td>TA</td><td>Gd</td><td>BLQ</td><td>1277</td><td>Unf</td><td>0</td><td>207</td><td>1484</td><td>GasA</td><td>TA</td><td>Y</td><td>SBrkr</td><td>1600</td><td>0</td><td>0</td><td>1600</td><td>1</td><td>0</td><td>1</td><td>0</td><td>2</td><td>1</td><td>TA</td><td>6</td><td>Typ</td><td>2</td><td>Gd</td><td>Attchd</td><td>1957</td><td>RFn</td><td>1</td><td>319</td><td>TA</td><td>TA</td><td>Y</td><td>288</td><td>258</td><td>0</td><td>0</td><td>0</td><td>0</td><td>NA</td><td>NA</td><td>NA</td><td>0</td><td>12</td><td>2006</td><td>WD</td><td>Normal</td><td>207500</td></tr><tr><th>30</th><td>30</td><td>30</td><td>RM</td><td>60</td><td>6324</td><td>Pave</td><td>NA</td><td>IR1</td><td>Lvl</td><td>AllPub</td><td>Inside</td><td>Gtl</td><td>BrkSide</td><td>Feedr</td><td>RRNn</td><td>1Fam</td><td>1Story</td><td>4</td><td>6</td><td>1927</td><td>1950</td><td>Gable</td><td>CompShg</td><td>MetalSd</td><td>MetalSd</td><td>None</td><td>0</td><td>TA</td><td>TA</td><td>BrkTil</td><td>TA</td><td>TA</td><td>No</td><td>Unf</td><td>0</td><td>Unf</td><td>0</td><td>520</td><td>520</td><td>GasA</td><td>Fa</td><td>N</td><td>SBrkr</td><td>520</td><td>0</td><td>0</td><td>520</td><td>0</td><td>0</td><td>1</td><td>0</td><td>1</td><td>1</td><td>Fa</td><td>4</td><td>Typ</td><td>0</td><td>NA</td><td>Detchd</td><td>1920</td><td>Unf</td><td>1</td><td>240</td><td>Fa</td><td>TA</td><td>Y</td><td>49</td><td>0</td><td>87</td><td>0</td><td>0</td><td>0</td><td>NA</td><td>NA</td><td>NA</td><td>0</td><td>5</td><td>2008</td><td>WD</td><td>Normal</td><td>68500</td></tr><tr><th>&vellip;</th><td>&vellip;</td><td>&vellip;</td><td>&vellip;</td><td>&vellip;</td><td>&vellip;</td><td>&vellip;</td><td>&vellip;</td><td>&vellip;</td><td>&vellip;</td><td>&vellip;</td><td>&vellip;</td><td>&vellip;</td><td>&vellip;</td><td>&vellip;</td><td>&vellip;</td><td>&vellip;</td><td>&vellip;</td><td>&vellip;</td><td>&vellip;</td><td>&vellip;</td><td>&vellip;</td><td>&vellip;</td><td>&vellip;</td><td>&vellip;</td><td>&vellip;</td><td>&vellip;</td><td>&vellip;</td><td>&vellip;</td><td>&vellip;</td><td>&vellip;</td><td>&vellip;</td><td>&vellip;</td><td>&vellip;</td><td>&vellip;</td><td>&vellip;</td><td>&vellip;</td><td>&vellip;</td><td>&vellip;</td><td>&vellip;</td><td>&vellip;</td><td>&vellip;</td><td>&vellip;</td><td>&vellip;</td><td>&vellip;</td><td>&vellip;</td><td>&vellip;</td><td>&vellip;</td><td>&vellip;</td><td>&vellip;</td><td>&vellip;</td><td>&vellip;</td><td>&vellip;</td><td>&vellip;</td><td>&vellip;</td><td>&vellip;</td><td>&vellip;</td><td>&vellip;</td><td>&vellip;</td><td>&vellip;</td><td>&vellip;</td><td>&vellip;</td><td>&vellip;</td><td>&vellip;</td><td>&vellip;</td><td>&vellip;</td><td>&vellip;</td><td>&vellip;</td><td>&vellip;</td><td>&vellip;</td><td>&vellip;</td><td>&vellip;</td><td>&vellip;</td><td>&vellip;</td><td>&vellip;</td><td>&vellip;</td><td>&vellip;</td><td>&vellip;</td><td>&vellip;</td><td>&vellip;</td><td>&vellip;</td><td>&vellip;</td></tr></tbody></table>"
      ],
      "text/plain": [
       "1460×81 DataFrame. Omitted printing of 75 columns\n",
       "│ Row  │ Id     │ MSSubClass │ MSZoning │ LotFrontage │ LotArea │ Street  │\n",
       "│      │ \u001b[90mInt64⍰\u001b[39m │ \u001b[90mInt64⍰\u001b[39m     │ \u001b[90mString⍰\u001b[39m  │ \u001b[90mString⍰\u001b[39m     │ \u001b[90mInt64⍰\u001b[39m  │ \u001b[90mString⍰\u001b[39m │\n",
       "├──────┼────────┼────────────┼──────────┼─────────────┼─────────┼─────────┤\n",
       "│ 1    │ 1      │ 60         │ RL       │ 65          │ 8450    │ Pave    │\n",
       "│ 2    │ 2      │ 20         │ RL       │ 80          │ 9600    │ Pave    │\n",
       "│ 3    │ 3      │ 60         │ RL       │ 68          │ 11250   │ Pave    │\n",
       "│ 4    │ 4      │ 70         │ RL       │ 60          │ 9550    │ Pave    │\n",
       "│ 5    │ 5      │ 60         │ RL       │ 84          │ 14260   │ Pave    │\n",
       "│ 6    │ 6      │ 50         │ RL       │ 85          │ 14115   │ Pave    │\n",
       "│ 7    │ 7      │ 20         │ RL       │ 75          │ 10084   │ Pave    │\n",
       "│ 8    │ 8      │ 60         │ RL       │ NA          │ 10382   │ Pave    │\n",
       "│ 9    │ 9      │ 50         │ RM       │ 51          │ 6120    │ Pave    │\n",
       "│ 10   │ 10     │ 190        │ RL       │ 50          │ 7420    │ Pave    │\n",
       "⋮\n",
       "│ 1450 │ 1450   │ 180        │ RM       │ 21          │ 1533    │ Pave    │\n",
       "│ 1451 │ 1451   │ 90         │ RL       │ 60          │ 9000    │ Pave    │\n",
       "│ 1452 │ 1452   │ 20         │ RL       │ 78          │ 9262    │ Pave    │\n",
       "│ 1453 │ 1453   │ 180        │ RM       │ 35          │ 3675    │ Pave    │\n",
       "│ 1454 │ 1454   │ 20         │ RL       │ 90          │ 17217   │ Pave    │\n",
       "│ 1455 │ 1455   │ 20         │ FV       │ 62          │ 7500    │ Pave    │\n",
       "│ 1456 │ 1456   │ 60         │ RL       │ 62          │ 7917    │ Pave    │\n",
       "│ 1457 │ 1457   │ 20         │ RL       │ 85          │ 13175   │ Pave    │\n",
       "│ 1458 │ 1458   │ 70         │ RL       │ 66          │ 9042    │ Pave    │\n",
       "│ 1459 │ 1459   │ 20         │ RL       │ 68          │ 9717    │ Pave    │\n",
       "│ 1460 │ 1460   │ 20         │ RL       │ 75          │ 9937    │ Pave    │"
      ]
     },
     "execution_count": 11,
     "metadata": {},
     "output_type": "execute_result"
    }
   ],
   "source": [
    "df = CSV.File(\"../data/housing_prices/train.csv\") |> DataFrame"
   ]
  },
  {
   "cell_type": "code",
   "execution_count": 14,
   "metadata": {},
   "outputs": [
    {
     "data": {
      "text/plain": [
       "1460-element Array{Union{Missing, Int64},1}:\n",
       "  60\n",
       "  20\n",
       "  60\n",
       "  70\n",
       "  60\n",
       "  50\n",
       "  20\n",
       "  60\n",
       "  50\n",
       " 190\n",
       "  20\n",
       "  60\n",
       "  20\n",
       "   ⋮\n",
       "  50\n",
       " 180\n",
       "  90\n",
       "  20\n",
       " 180\n",
       "  20\n",
       "  20\n",
       "  60\n",
       "  20\n",
       "  70\n",
       "  20\n",
       "  20"
      ]
     },
     "execution_count": 14,
     "metadata": {},
     "output_type": "execute_result"
    }
   ],
   "source": [
    "# it's also possible to investigate single columns!\n",
    "df[:MSSubClass]"
   ]
  },
  {
   "cell_type": "markdown",
   "metadata": {},
   "source": [
    "Following what I learned in the Python notebooks, let's calculate the correlation matrix and then choose a subset of features that are \"strongly\" correlated with `SalePrice`, then try to make predictions!"
   ]
  },
  {
   "cell_type": "code",
   "execution_count": null,
   "metadata": {},
   "outputs": [],
   "source": []
  }
 ],
 "metadata": {
  "kernelspec": {
   "display_name": "Julia 1.0.1",
   "language": "julia",
   "name": "julia-1.0"
  },
  "language_info": {
   "file_extension": ".jl",
   "mimetype": "application/julia",
   "name": "julia",
   "version": "1.0.1"
  }
 },
 "nbformat": 4,
 "nbformat_minor": 2
}
