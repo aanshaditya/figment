{
 "cells": [
  {
   "cell_type": "markdown",
   "metadata": {
    "colab_type": "text",
    "id": "A0SYvDu7VVrw"
   },
   "source": [
    "# Fantasy Football\n",
    "\n",
    "In this notebook, I will make an attempt to predict football stats for the NFL player Tom Brady.\n",
    "These stats could be used in a fantasy football league.\n",
    "\n",
    "This notebook builds on the previous examples, but I will be using a different approach for making predictions.\n",
    "\n",
    "To access NFL data, I will use the NFLGame module (only using pre-2018 data as of this writing).\n",
    "\n",
    "- Original repository (pre-2018): https://github.com/BurntSushi/nflgame (`nflgame`)\n",
    "- New repository (2018+): https://github.com/derek-adair/nflgame (`nflgame-redux`)\n",
    "- API http://nflgame.derekadair.com/\n",
    "\n",
    "My predictions will be compared with those from Yahoo! and ESPN, and ultimately graded on the actual outcome in each game."
   ]
  },
  {
   "cell_type": "markdown",
   "metadata": {
    "colab_type": "text",
    "id": "iGcRsXMlVwyg"
   },
   "source": [
    "For this approach, I will use play-level data to make predictions.  \n",
    "There are plenty of plays per game, but not enough games in a year to really make strong predictions (at least, this was the case in my previous approach, perhaps there is a better way!).\n",
    "\n",
    "Thus, I will use the following method:\n",
    "\n",
    "- Categorize plays based on \n",
    "    1. Game Half (1st or 2nd)\n",
    "    2. Score Differential (<= 7 pts, >7 pts; positive for 'leading', negative for 'deficit')\n",
    "    3. Down (1, 2, 3 -- ignoring 4th for now)\n",
    "    4. Distance (<=5; >5 yds)\n",
    "    5. Field position ( [0-25], [25-50]; (+) for opponent territory, (-) for own territory)\n",
    "- For each play, identify the category then register the number of [`passing_yds`, `passing_tds`, etc.] in plays that feature TB12 and plays featuring the opposing defense.\n",
    "    - This will yield two distributions: \n",
    "        1. `passing_yds` for TB12 per play\n",
    "        2. `passing_yds` allowed by DEF per play\n",
    "- Weight the two predictions (TB12 and DEF) and predict the total number of `passing_yds` for TB12 against DEF in the upcoming game (need to figure out the weights for the average) and multiply by the number of expected plays for each category (need to predict the expected number of plays from each category -- possibly create an ensemble by drawing from the distribution of all games involving TB12 and the DEF)."
   ]
  },
  {
   "cell_type": "markdown",
   "metadata": {
    "colab_type": "text",
    "id": "hW6_pznG-eEH"
   },
   "source": [
    "## Getting Started\n",
    "\n",
    "First we will install `nflgame-redux` (it is Python2 only!) and start playing around with the API to access individual plays for TB12 and the \"BUF\" defense"
   ]
  },
  {
   "cell_type": "code",
   "execution_count": 1,
   "metadata": {
    "colab": {
     "base_uri": "https://localhost:8080/",
     "height": 292
    },
    "colab_type": "code",
    "executionInfo": {
     "elapsed": 15891,
     "status": "ok",
     "timestamp": 1542060635731,
     "user": {
      "displayName": "Daniel Marley",
      "photoUrl": "https://lh5.googleusercontent.com/-x0vVAUeK8iE/AAAAAAAAAAI/AAAAAAAAABo/BoFiYjkoupU/s64/photo.jpg",
      "userId": "07016772076441564573"
     },
     "user_tz": 360
    },
    "id": "5duq20FnVSIY",
    "outputId": "41b9c739-6fed-4a09-de42-19584d418b57"
   },
   "outputs": [
    {
     "name": "stdout",
     "output_type": "stream",
     "text": [
      "Collecting nflgame-redux\n",
      "\u001b[?25l  Downloading https://files.pythonhosted.org/packages/c1/b1/a4bff28008e9999b115df9441dec02071e668f10cc859b9fbd2243579b01/nflgame-redux-1.2.23.tar.gz (42.8MB)\n",
      "\u001b[K    100% |████████████████████████████████| 42.8MB 470kB/s \n",
      "\u001b[?25hRequirement already satisfied: pytz in /usr/local/lib/python2.7/dist-packages (from nflgame-redux) (2018.7)\n",
      "Requirement already satisfied: httplib2 in /usr/local/lib/python2.7/dist-packages (from nflgame-redux) (0.11.3)\n",
      "Requirement already satisfied: beautifulsoup4 in /usr/local/lib/python2.7/dist-packages (from nflgame-redux) (4.6.3)\n",
      "Collecting lxml (from nflgame-redux)\n",
      "\u001b[?25l  Downloading https://files.pythonhosted.org/packages/e5/14/f4343239f955442da9da1919a99f7311bc5627522741bada61b2349c8def/lxml-4.2.5-cp27-cp27mu-manylinux1_x86_64.whl (5.8MB)\n",
      "\u001b[K    100% |████████████████████████████████| 5.8MB 4.2MB/s \n",
      "\u001b[?25hBuilding wheels for collected packages: nflgame-redux\n",
      "  Running setup.py bdist_wheel for nflgame-redux ... \u001b[?25l-\b \b\\\b \b|\b \b/\b \b-\b \b\\\b \b|\b \b/\b \b-\b \b\\\b \b|\b \b/\b \b-\b \b\\\b \b|\b \b/\b \b-\b \b\\\b \b|\b \b/\b \b-\b \b\\\b \b|\b \b/\b \b-\b \b\\\b \b|\b \b/\b \b-\b \b\\\b \b|\b \b/\b \b-\b \b\\\b \bdone\n",
      "\u001b[?25h  Stored in directory: /root/.cache/pip/wheels/ae/fd/75/e7cda3251d7c91489cac6a73daff6b6c468c8d579a76746ead\n",
      "Successfully built nflgame-redux\n",
      "Installing collected packages: lxml, nflgame-redux\n",
      "Successfully installed lxml-4.2.5 nflgame-redux-1.2.23\n"
     ]
    }
   ],
   "source": [
    "# install the nflgame module\n",
    "!pip install nflgame-redux"
   ]
  },
  {
   "cell_type": "code",
   "execution_count": 1,
   "metadata": {
    "colab": {
     "base_uri": "https://localhost:8080/",
     "height": 34
    },
    "colab_type": "code",
    "executionInfo": {
     "elapsed": 846,
     "status": "ok",
     "timestamp": 1542060739150,
     "user": {
      "displayName": "Daniel Marley",
      "photoUrl": "https://lh5.googleusercontent.com/-x0vVAUeK8iE/AAAAAAAAAAI/AAAAAAAAABo/BoFiYjkoupU/s64/photo.jpg",
      "userId": "07016772076441564573"
     },
     "user_tz": 360
    },
    "id": "PIMxHLk--OEn",
    "outputId": "0ee06ab8-0a13-4e37-e4fa-18409caefd90"
   },
   "outputs": [],
   "source": [
    "import nflgame"
   ]
  },
  {
   "cell_type": "code",
   "execution_count": 2,
   "metadata": {
    "colab": {},
    "colab_type": "code",
    "id": "iYjQyDWv-4ar"
   },
   "outputs": [
    {
     "name": "stdout",
     "output_type": "stream",
     "text": [
      "00-0019596\n"
     ]
    }
   ],
   "source": [
    "# Investigate single player\n",
    "tb12 = nflgame.find(\"Tom Brady\")[0]\n",
    "print tb12.player_id"
   ]
  },
  {
   "cell_type": "code",
   "execution_count": 3,
   "metadata": {
    "colab": {},
    "colab_type": "code",
    "id": "iYjQyDWv-4ar"
   },
   "outputs": [],
   "source": [
    "# copied from notebook 0:\n",
    "def get_tb12_stats(player,stat_names,week):\n",
    "    \"\"\"Player Weekly stats\"\"\"\n",
    "    stat_values = {}\n",
    "    stats = player.stats(ffyear,week=week)\n",
    "\n",
    "    for stat_name in stat_names:\n",
    "        try:\n",
    "            stat_values[stat_name] = getattr(stats,stat_name)()\n",
    "        except:\n",
    "            stat_values[stat_name] = getattr(stats,stat_name)\n",
    "\n",
    "    return stat_values"
   ]
  },
  {
   "cell_type": "code",
   "execution_count": 4,
   "metadata": {
    "colab": {},
    "colab_type": "code",
    "id": "vt9ga-_e_gTr"
   },
   "outputs": [],
   "source": [
    "# Investigate plays for a player (season and week)\n",
    "plays = tb12.plays(2013,week=1)"
   ]
  },
  {
   "cell_type": "code",
   "execution_count": 5,
   "metadata": {
    "colab": {
     "base_uri": "https://localhost:8080/",
     "height": 904
    },
    "colab_type": "code",
    "executionInfo": {
     "elapsed": 208,
     "status": "ok",
     "timestamp": 1542062489099,
     "user": {
      "displayName": "Daniel Marley",
      "photoUrl": "https://lh5.googleusercontent.com/-x0vVAUeK8iE/AAAAAAAAAAI/AAAAAAAAABo/BoFiYjkoupU/s64/photo.jpg",
      "userId": "07016772076441564573"
     },
     "user_tz": 360
    },
    "id": "ym7nFCfMAJQl",
    "outputId": "c4e22a95-3c40-4d20-8ac7-a7a3f9e6134b"
   },
   "outputs": [
    {
     "name": "stdout",
     "output_type": "stream",
     "text": [
      "0 (NE, NE 19, Q1, 1 and 5) (14:56) T.Brady pass short right to D.Amendola to NE 29 for 10 yards (J.Rogers). Slant pattern, caught at NE 25, crossing to middle.\n",
      "['_Play__players', '__class__', '__delattr__', '__dict__', '__doc__', '__eq__', '__format__', '__getattr__', '__getattribute__', '__hash__', '__init__', '__module__', '__new__', '__reduce__', '__reduce_ex__', '__repr__', '__setattr__', '__sizeof__', '__str__', '__subclasshook__', '__weakref__', '_stats', 'data', 'defense_tkl', 'desc', 'down', 'drive', 'events', 'first_down', 'has_player', 'home', 'note', 'passing_att', 'passing_cmp', 'passing_cmp_air_yds', 'passing_first_down', 'passing_yds', 'players', 'playid', 'receiving_rec', 'receiving_tar', 'receiving_yac_yds', 'receiving_yds', 'team', 'time', 'touchdown', 'yardline', 'yards_togo']\n",
      "{'receiving_yac_yds': 4, 'playerid': u'00-0026035', 'playername': u'D.Amendola', 'team': u'NE'}\n",
      "{'playerid': u'00-0028144', 'playername': u'J.Rogers', 'defense_tkl': 1, 'team': u'BUF'}\n",
      "{'passing_att': 1, 'playerid': u'00-0019596', 'passing_yds': 10, 'passing_cmp': 1, 'playername': u'T.Brady', 'team': u'NE'}\n",
      "{'playerid': u'00-0019596', 'passing_cmp_air_yds': 6, 'playername': u'T.Brady', 'team': u'NE'}\n",
      "{'receiving_yds': 10, 'playerid': u'00-0026035', 'playername': u'D.Amendola', 'receiving_rec': 1, 'team': u'NE'}\n",
      "{'playerid': u'00-0026035', 'playername': u'D.Amendola', 'receiving_tar': 1, 'team': u'NE'}\n",
      "{'playerid': None, 'playername': None, 'team': u'NE', 'passing_first_down': 1, 'first_down': 1}\n",
      "1 (NE, NE 32, Q1, 2 and 7) (13:47) (Shotgun) T.Brady pass incomplete short middle to D.Amendola. Thrown wide of receiver at NE 38, crossing from left.\n",
      "['_Play__players', '__class__', '__delattr__', '__dict__', '__doc__', '__eq__', '__format__', '__getattr__', '__getattribute__', '__hash__', '__init__', '__module__', '__new__', '__reduce__', '__reduce_ex__', '__repr__', '__setattr__', '__sizeof__', '__str__', '__subclasshook__', '__weakref__', '_stats', 'data', 'desc', 'down', 'drive', 'events', 'has_player', 'home', 'note', 'passing_att', 'passing_incmp', 'passing_incmp_air_yds', 'players', 'playid', 'receiving_tar', 'team', 'time', 'touchdown', 'yardline', 'yards_togo']\n",
      "{'passing_incmp_air_yds': 6, 'playerid': u'00-0019596', 'playername': u'T.Brady', 'team': u'NE'}\n",
      "{'playerid': u'00-0026035', 'playername': u'D.Amendola', 'receiving_tar': 1, 'team': u'NE'}\n",
      "{'playerid': u'00-0019596', 'playername': u'T.Brady', 'passing_att': 1, 'passing_incmp': 1, 'team': u'NE'}\n"
     ]
    }
   ],
   "source": [
    "# Here is what a typical play might look like\n",
    "for i,p in enumerate(plays):\n",
    "    print i,p\n",
    "    print dir(p)\n",
    "    for event in p.events:\n",
    "        print event\n",
    "    if i==1: break"
   ]
  },
  {
   "cell_type": "markdown",
   "metadata": {},
   "source": [
    "Now, for each play we will run through the `playerid`s, select those that belong to TB12, and categorize the play and result.\n",
    "\n",
    "For now, let's just consider `passing_yds` as our target value."
   ]
  },
  {
   "cell_type": "code",
   "execution_count": 6,
   "metadata": {},
   "outputs": [],
   "source": [
    "plays = list(plays)"
   ]
  },
  {
   "cell_type": "markdown",
   "metadata": {},
   "source": [
    "Relevant attributes:\n",
    "- `time`: Attributes `clock` and `qtr`\n",
    "- `yards_togo`: Just use the value reported\n",
    "- `yardline`: Attribute `offset` >0 for opponent side of field, negative for own side of filed.  Represents difference from 50 yard line.  \n",
    "    - `if yardline.offset < 0: # OWN`\n",
    "    - `else: # opponent`\n",
    "    - `50 - offset = yardline`\n",
    "- `down`: Just use the value reported"
   ]
  },
  {
   "cell_type": "code",
   "execution_count": 7,
   "metadata": {
    "colab": {},
    "colab_type": "code",
    "id": "DilaxFHJAdJf"
   },
   "outputs": [
    {
     "name": "stdout",
     "output_type": "stream",
     "text": [
      "0 NE - Q1 - TD - J.Edelman 9 yd. pass from T.Brady (S.Gostkowski kick is good) Drive: 3 plays, 16 yards in 0:47\n"
     ]
    }
   ],
   "source": [
    "games = nflgame.games_gen(2013,1,\"NE\",\"NE\")\n",
    "for i,g in enumerate(games):\n",
    "    print i,g.scores[0]"
   ]
  },
  {
   "cell_type": "code",
   "execution_count": 8,
   "metadata": {},
   "outputs": [
    {
     "name": "stdout",
     "output_type": "stream",
     "text": [
      "6 (10:51) (Shotgun) T.Brady pass short middle to J.Edelman for 9 yards, TOUCHDOWN. Caught in back of end zone.\n",
      "24 (2:00) (Shotgun) T.Brady pass short middle to J.Edelman for 8 yards, TOUCHDOWN. Caught 6 yds. into end zone, crossing from right.\n"
     ]
    }
   ],
   "source": [
    "# Here is what a typical play might look like\n",
    "# Investigate plays for a player (season and week)\n",
    "plays = tb12.plays(2013,week=1)\n",
    "\n",
    "for i,p in enumerate(plays):\n",
    "    if 'TOUCHDOWN' in p.desc: print i,p.desc"
   ]
  },
  {
   "cell_type": "markdown",
   "metadata": {},
   "source": [
    "At the moment it seems like there will be a major hack necessary to line up which plays go with which scores to get the live score at any given play (since the individual plays don't report the current score).  Thus, I will skip that feature for now, but will come back to it if I think it can add something signficant (the current score certainly affects play calling!)."
   ]
  },
  {
   "cell_type": "code",
   "execution_count": null,
   "metadata": {},
   "outputs": [],
   "source": []
  }
 ],
 "metadata": {
  "colab": {
   "collapsed_sections": [],
   "name": "2-fantasy-football.ipynb",
   "provenance": [],
   "version": "0.3.2"
  },
  "kernelspec": {
   "display_name": "Python 2",
   "language": "python",
   "name": "python2"
  },
  "language_info": {
   "codemirror_mode": {
    "name": "ipython",
    "version": 2
   },
   "file_extension": ".py",
   "mimetype": "text/x-python",
   "name": "python",
   "nbconvert_exporter": "python",
   "pygments_lexer": "ipython2",
   "version": "2.7.15"
  }
 },
 "nbformat": 4,
 "nbformat_minor": 1
}
