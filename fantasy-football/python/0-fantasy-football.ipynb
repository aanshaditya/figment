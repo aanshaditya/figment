{
 "cells": [
  {
   "cell_type": "markdown",
   "metadata": {
    "colab_type": "text",
    "id": "F4vVkO8A9Ij_"
   },
   "source": [
    "# Fantasy Football\n",
    "\n",
    "In this notebook, I will make an attempt to predict football stats for the NFL player Tom Brady.\n",
    "These stats could be used in a fantasy football league.\n",
    "\n",
    "_Don't let this be some indication that Tom Brady is my favorite player.  I'm choosing TB12 because, while he is very good at what he does, we both went to Michigan -- Go Blue!.  Some day this will be extended for most (all?) players in FF leagues._\n",
    "\n",
    "_NB, I honestly prefer college football over the NFL, but if I were to choose a favorite NFL player, I would say Russell Wilson (mostly because we were both at NC State at the same time. Go Wolfpack!)._\n",
    "\n",
    "\n",
    "To access NFL data, I will use the NFLGame module (only using pre-2018 data as of this writing).\n",
    "\n",
    "- Original repository (pre-2018): https://github.com/BurntSushi/nflgame (`nflgame`)\n",
    "- New repository (2018+): https://github.com/derek-adair/nflgame (`nflgame-redux`)\n",
    "- API http://nflgame.derekadair.com/\n",
    "\n",
    "This notebook will be used to access data from `nflgame`, select the information we want,\n",
    "organize it, and store it in a `sql` database we can load directly in other notebooks."
   ]
  },
  {
   "cell_type": "markdown",
   "metadata": {
    "colab_type": "text",
    "id": "n7c4afMv-7HX"
   },
   "source": [
    "## Getting Started\n",
    "\n",
    "First, let's install the necessary module, `nflgame-redux` and load other modules.\n",
    "\n",
    "This module uses Python2, so please ensure the runtime in Google Colab is correct."
   ]
  },
  {
   "cell_type": "code",
   "execution_count": 1,
   "metadata": {
    "colab": {
     "base_uri": "https://localhost:8080/",
     "height": 292
    },
    "colab_type": "code",
    "executionInfo": {
     "elapsed": 17083,
     "status": "ok",
     "timestamp": 1541779709234,
     "user": {
      "displayName": "Daniel Marley",
      "photoUrl": "https://lh5.googleusercontent.com/-x0vVAUeK8iE/AAAAAAAAAAI/AAAAAAAAABo/BoFiYjkoupU/s64/photo.jpg",
      "userId": "07016772076441564573"
     },
     "user_tz": 360
    },
    "id": "jRjB5OnD9Fx9",
    "outputId": "12a84728-dfd2-4975-ac37-33b73242077f"
   },
   "outputs": [
    {
     "name": "stdout",
     "output_type": "stream",
     "text": [
      "Collecting nflgame-redux\n",
      "\u001b[?25l  Downloading https://files.pythonhosted.org/packages/c1/b1/a4bff28008e9999b115df9441dec02071e668f10cc859b9fbd2243579b01/nflgame-redux-1.2.23.tar.gz (42.8MB)\n",
      "\u001b[K    100% |████████████████████████████████| 42.8MB 101kB/s eta 0:00:01\n",
      "\u001b[?25hRequirement already satisfied: pytz in /Users/demarley/anaconda2/lib/python2.7/site-packages (from nflgame-redux) (2018.5)\n",
      "Collecting httplib2 (from nflgame-redux)\n",
      "\u001b[?25l  Downloading https://files.pythonhosted.org/packages/fd/ce/aa4a385e3e9fd351737fd2b07edaa56e7a730448465aceda6b35086a0d9b/httplib2-0.11.3.tar.gz (215kB)\n",
      "\u001b[K    100% |████████████████████████████████| 225kB 18.7MB/s ta 0:00:01\n",
      "\u001b[?25hRequirement already satisfied: beautifulsoup4 in /Users/demarley/anaconda2/lib/python2.7/site-packages (from nflgame-redux) (4.6.3)\n",
      "Requirement already satisfied: lxml in /Users/demarley/anaconda2/lib/python2.7/site-packages (from nflgame-redux) (4.2.5)\n",
      "Building wheels for collected packages: nflgame-redux, httplib2\n",
      "  Running setup.py bdist_wheel for nflgame-redux ... \u001b[?25ldone\n",
      "\u001b[?25h  Stored in directory: /Users/demarley/Library/Caches/pip/wheels/ae/fd/75/e7cda3251d7c91489cac6a73daff6b6c468c8d579a76746ead\n",
      "  Running setup.py bdist_wheel for httplib2 ... \u001b[?25ldone\n",
      "\u001b[?25h  Stored in directory: /Users/demarley/Library/Caches/pip/wheels/1b/9c/9e/1f6fdb21dbb1fe6a99101d697f12cb8c1fa96c1587df69adba\n",
      "Successfully built nflgame-redux httplib2\n",
      "Installing collected packages: httplib2, nflgame-redux\n",
      "Successfully installed httplib2-0.11.3 nflgame-redux-1.2.23\n"
     ]
    }
   ],
   "source": [
    "!pip install nflgame-redux"
   ]
  },
  {
   "cell_type": "code",
   "execution_count": 2,
   "metadata": {
    "colab": {
     "base_uri": "https://localhost:8080/",
     "height": 34
    },
    "colab_type": "code",
    "executionInfo": {
     "elapsed": 1404,
     "status": "ok",
     "timestamp": 1541780337427,
     "user": {
      "displayName": "Daniel Marley",
      "photoUrl": "https://lh5.googleusercontent.com/-x0vVAUeK8iE/AAAAAAAAAAI/AAAAAAAAABo/BoFiYjkoupU/s64/photo.jpg",
      "userId": "07016772076441564573"
     },
     "user_tz": 360
    },
    "id": "ytPpufw4_Gu0",
    "outputId": "a9fd85c2-94be-4e4c-ab66-3ef45399a5f6"
   },
   "outputs": [
    {
     "name": "stdout",
     "output_type": "stream",
     "text": [
      "Updating (2018, 'REG', 10)\n"
     ]
    }
   ],
   "source": [
    "import nflgame\n",
    "import sqlite3\n",
    "import numpy as np\n",
    "import pandas as pd\n",
    "\n",
    "# Load the modules from scikit-learn\n",
    "from sklearn import svm\n",
    "from sklearn import neighbors\n",
    "from sklearn.metrics import explained_variance_score  # quantifying accuracy of regression\n",
    "from sklearn.model_selection import train_test_split"
   ]
  },
  {
   "cell_type": "markdown",
   "metadata": {
    "colab_type": "text",
    "id": "6vEEowFlGmma"
   },
   "source": [
    "### Access Player and Stats\n",
    "After a bit of playing around with the API, I think I know how to access the data for a specific player:"
   ]
  },
  {
   "cell_type": "markdown",
   "metadata": {
    "colab_type": "text",
    "id": "XYiTwv28GNDo"
   },
   "source": [
    "Cookbook: https://github.com/BurntSushi/nflgame/wiki/Cookbook#calculate-number-of-sacks-for-a-team  \n",
    "Stat types: https://github.com/BurntSushi/nflgame/wiki/Stat-types "
   ]
  },
  {
   "cell_type": "code",
   "execution_count": 8,
   "metadata": {
    "colab": {},
    "colab_type": "code",
    "id": "RCDNzv71tp7A"
   },
   "outputs": [],
   "source": [
    "# Starting with 2010\n",
    "ffyear = 2010"
   ]
  },
  {
   "cell_type": "code",
   "execution_count": 9,
   "metadata": {
    "colab": {},
    "colab_type": "code",
    "id": "inQvc63cCNbs"
   },
   "outputs": [],
   "source": [
    "tb12 = nflgame.find(\"Tom Brady\")[0]"
   ]
  },
  {
   "cell_type": "code",
   "execution_count": 10,
   "metadata": {
    "colab": {
     "base_uri": "https://localhost:8080/",
     "height": 819
    },
    "colab_type": "code",
    "executionInfo": {
     "elapsed": 211,
     "status": "ok",
     "timestamp": 1541780627872,
     "user": {
      "displayName": "Daniel Marley",
      "photoUrl": "https://lh5.googleusercontent.com/-x0vVAUeK8iE/AAAAAAAAAAI/AAAAAAAAABo/BoFiYjkoupU/s64/photo.jpg",
      "userId": "07016772076441564573"
     },
     "user_tz": 360
    },
    "id": "ats7UHZqETSH",
    "outputId": "a8f27aad-af68-4d7e-f0d9-b22b241bb469"
   },
   "outputs": [
    {
     "name": "stdout",
     "output_type": "stream",
     "text": [
      " > __class__ : <class 'nflgame.player.Player'>\n",
      " > __delattr__ : <method-wrapper '__delattr__' of Player object at 0x107627110>\n",
      " > __dict__ : {'years_pro': 18, 'status': u'ACT', 'first_name': u'Tom', 'last_name': u'Brady', 'gsis_id': u'00-0019596', 'weight': 225, 'position': u'QB', 'playerid': u'00-0019596', 'profile_id': 2504211, 'number': 12, 'uniform_number': 12, 'height': 76, 'college': u'Michigan', 'birthdate': u'8/3/1977', 'full_name': u'Tom Brady', 'team': u'NE', 'player_id': u'00-0019596', 'gsis_name': u'T.Brady', 'profile_url': u'http://www.nfl.com/player/tombrady/2504211/profile', 'name': u'Tom Brady'}\n",
      " > __doc__ : \n",
      "    Player instances represent meta information about a single player.\n",
      "    This information includes name, team, position, status, height,\n",
      "    weight, college, jersey number, birth date, years, pro, etc.\n",
      "\n",
      "    Player information is populated from NFL.com profile pages.\n",
      "    \n",
      " > __format__ : <built-in method __format__ of Player object at 0x107627110>\n",
      " > __getattribute__ : <method-wrapper '__getattribute__' of Player object at 0x107627110>\n",
      " > __hash__ : <method-wrapper '__hash__' of Player object at 0x107627110>\n",
      " > __init__ : <bound method Player.__init__ of <nflgame.player.Player object at 0x107627110>>\n",
      " > __module__ : nflgame.player\n",
      " > __new__ : <built-in method __new__ of type object at 0x102711a30>\n",
      " > __reduce__ : <built-in method __reduce__ of Player object at 0x107627110>\n",
      " > __reduce_ex__ : <built-in method __reduce_ex__ of Player object at 0x107627110>\n",
      " > __repr__ : <method-wrapper '__repr__' of Player object at 0x107627110>\n",
      " > __setattr__ : <method-wrapper '__setattr__' of Player object at 0x107627110>\n",
      " > __sizeof__ : <built-in method __sizeof__ of Player object at 0x107627110>\n",
      " > __str__ : <bound method Player.__str__ of <nflgame.player.Player object at 0x107627110>>\n",
      " > __subclasshook__ : <built-in method __subclasshook__ of type object at 0x7fa75ab92d60>\n",
      " > __weakref__ : None\n",
      " > birthdate : 8/3/1977\n",
      " > college : Michigan\n",
      " > first_name : Tom\n",
      " > full_name : Tom Brady\n",
      " > gsis_id : 00-0019596\n",
      " > gsis_name : T.Brady\n",
      " > height : 76\n",
      " > last_name : Brady\n",
      " > name : Tom Brady\n",
      " > number : 12\n",
      " > player_id : 00-0019596\n",
      " > playerid : 00-0019596\n",
      " > plays : <bound method Player.plays of <nflgame.player.Player object at 0x107627110>>\n",
      " > position : QB\n",
      " > profile_id : 2504211\n",
      " > profile_url : http://www.nfl.com/player/tombrady/2504211/profile\n",
      " > stats : <bound method Player.stats of <nflgame.player.Player object at 0x107627110>>\n",
      " > status : ACT\n",
      " > team : NE\n",
      " > uniform_number : 12\n",
      " > weight : 225\n",
      " > years_pro : 18\n"
     ]
    }
   ],
   "source": [
    "opts = dir(tb12)\n",
    "for opt in opts:\n",
    "    print \" > {0} : {1}\".format(opt,getattr(tb12,opt))"
   ]
  },
  {
   "cell_type": "markdown",
   "metadata": {
    "colab_type": "text",
    "id": "ee7Z4cUFGrQ3"
   },
   "source": [
    "And his relevant stats can be obtained by doing:"
   ]
  },
  {
   "cell_type": "code",
   "execution_count": 12,
   "metadata": {
    "colab": {
     "base_uri": "https://localhost:8080/",
     "height": 615
    },
    "colab_type": "code",
    "executionInfo": {
     "elapsed": 548,
     "status": "ok",
     "timestamp": 1541780798132,
     "user": {
      "displayName": "Daniel Marley",
      "photoUrl": "https://lh5.googleusercontent.com/-x0vVAUeK8iE/AAAAAAAAAAI/AAAAAAAAABo/BoFiYjkoupU/s64/photo.jpg",
      "userId": "07016772076441564573"
     },
     "user_tz": 360
    },
    "id": "ZNoMf2DPGa7o",
    "outputId": "51e83358-8f41-4178-d961-1c005084e247"
   },
   "outputs": [
    {
     "name": "stdout",
     "output_type": "stream",
     "text": [
      "formatted_stats <bound method GamePlayerStats.formatted_stats of <nflgame.player.GamePlayerStats object at 0x1a183d5c10>>\n",
      "games 1\n",
      "guess_position QB\n",
      "has_cat <bound method GamePlayerStats.has_cat of <nflgame.player.GamePlayerStats object at 0x1a183d5c10>>\n",
      "home True\n",
      "name T.Brady\n",
      "passer_rating <bound method GamePlayerStats.passer_rating of <nflgame.player.GamePlayerStats object at 0x1a183d5c10>>\n",
      "passing_att 35\n",
      "passing_cmp 25\n",
      "passing_ints 0\n",
      "passing_tds 3\n",
      "passing_twopta 0\n",
      "passing_twoptm 0\n",
      "passing_yds 258\n",
      "player Tom Brady (QB, NE)\n",
      "playerid 00-0019596\n",
      "stats OrderedDict([(u'passing_att', 35), (u'passing_twoptm', 0), (u'passing_twopta', 0), (u'passing_yds', 258), (u'passing_cmp', 25), (u'passing_ints', 0), (u'passing_tds', 3)])\n",
      "tds 3\n",
      "team NE\n",
      "twopta 0\n",
      "twoptm 0\n",
      "twoptmissed 0\n"
     ]
    }
   ],
   "source": [
    "stats = tb12.stats(ffyear,week=1)\n",
    "stat_opts = dir(stats)\n",
    "for stat_opt in stat_opts:\n",
    "    if stat_opt.startswith(\"_\"): continue\n",
    "    print stat_opt,getattr(stats,stat_opt)"
   ]
  },
  {
   "cell_type": "markdown",
   "metadata": {
    "colab_type": "text",
    "id": "rj4A2M_2IBOI"
   },
   "source": [
    "Then I can write things like"
   ]
  },
  {
   "cell_type": "code",
   "execution_count": 13,
   "metadata": {
    "colab": {
     "base_uri": "https://localhost:8080/",
     "height": 68
    },
    "colab_type": "code",
    "executionInfo": {
     "elapsed": 227,
     "status": "ok",
     "timestamp": 1541780799053,
     "user": {
      "displayName": "Daniel Marley",
      "photoUrl": "https://lh5.googleusercontent.com/-x0vVAUeK8iE/AAAAAAAAAAI/AAAAAAAAABo/BoFiYjkoupU/s64/photo.jpg",
      "userId": "07016772076441564573"
     },
     "user_tz": 360
    },
    "id": "BHGwEVFAFydb",
    "outputId": "a6c48696-ec87-4cbb-f2a7-41dedf379f29"
   },
   "outputs": [
    {
     "name": "stdout",
     "output_type": "stream",
     "text": [
      "TB12 went 25/35 for 258 yds, 3 TDs, and 0 INTs\n",
      "TB12 had a total of 3 TDs (3 passing and 0 rushing)\n",
      "TB12 QBR = 120.9\n"
     ]
    }
   ],
   "source": [
    "print \"TB12 went {0}/{1} for {2} yds, {3} TDs, and {4} INTs\".format(stats.passing_cmp,stats.passing_att,stats.passing_yds,stats.passing_tds,stats.passing_ints)\n",
    "print \"TB12 had a total of {0} TDs ({1} passing and {2} rushing)\".format(stats.tds,stats.passing_tds,stats.rushing_tds)\n",
    "print \"TB12 QBR = {0}\".format(stats.passer_rating())"
   ]
  },
  {
   "cell_type": "markdown",
   "metadata": {
    "colab_type": "text",
    "id": "PkH9jsYJINar"
   },
   "source": [
    "Now that I can access data from the player I want to consider, I need to get the data from the defense he will be playing (I think this kind of information will be important for predicting TB12's performance)."
   ]
  },
  {
   "cell_type": "markdown",
   "metadata": {
    "colab_type": "text",
    "id": "GOuVAWLEyQoA"
   },
   "source": [
    "First, get a list of opponents that we will need to investigate."
   ]
  },
  {
   "cell_type": "code",
   "execution_count": 14,
   "metadata": {
    "colab": {
     "base_uri": "https://localhost:8080/",
     "height": 34
    },
    "colab_type": "code",
    "executionInfo": {
     "elapsed": 364,
     "status": "ok",
     "timestamp": 1541780850800,
     "user": {
      "displayName": "Daniel Marley",
      "photoUrl": "https://lh5.googleusercontent.com/-x0vVAUeK8iE/AAAAAAAAAAI/AAAAAAAAABo/BoFiYjkoupU/s64/photo.jpg",
      "userId": "07016772076441564573"
     },
     "user_tz": 360
    },
    "id": "AKpv2oAdpD72",
    "outputId": "91be2664-a4d8-48e0-d7e4-d5ecbd1cfcd8"
   },
   "outputs": [
    {
     "name": "stdout",
     "output_type": "stream",
     "text": [
      "[u'PIT', u'MIN', u'MIA', u'CLE', u'DET', u'CIN', u'NYJ', u'GB', u'CHI', u'IND', u'BAL', u'BUF', u'SD']\n"
     ]
    }
   ],
   "source": [
    "# First, let's get a list of New England opponents for 2010\n",
    "opponents = []\n",
    "games = list(nflgame.games_gen(ffyear, None, \"NE\",\"NE\"))\n",
    "\n",
    "for game in games:\n",
    "    if game.home==\"NE\":\n",
    "        opponents.append(game.away)\n",
    "    else:\n",
    "        opponents.append(game.home)\n",
    "\n",
    "# Opponents in the same division will appear twice, but that's okay since they\n",
    "# play each other in different weeks and the teams (supposedly) learn\n",
    "# from the previous meeting\n",
    "unique_opps = list(set(opponents))  # only need data tables for the unique set\n",
    "print unique_opps"
   ]
  },
  {
   "cell_type": "markdown",
   "metadata": {
    "colab_type": "text",
    "id": "mhyvfiLbfscx"
   },
   "source": [
    "### Build the Database\n",
    "\n",
    "Using this information, let's build our database using SQLite.  \n",
    "I want to put the minimal amount of information into a single database, with more explicit structure, so I don't need to keep querying `nflgame`.\n",
    "\n",
    "_I have only used sqlite once, a very long time ago for storing some time series data from our detector (PMT voltages and currents, to be more exact), so this may be very inefficient and ugly code..._\n",
    "\n",
    "To help me with this, I'm referencing [this](https://sebastianraschka.com/Articles/2014_sqlite_in_python_tutorial.html#creating-a-new-sqlite-database) article.\n",
    "\n",
    "The database structure:\n",
    "\n",
    "- 1 table for each NFL team defense stats for all 16 games\n",
    "    - Each row will be each game\n",
    "    - Each column will be the different stats\n",
    "- 1 table for TB12 stats\n",
    "    - Each row will be each game\n",
    "    - Each column will be the different stats\n",
    "\n",
    "\n",
    "With each table in our database, we will export the necessary data to use in our learning methods"
   ]
  },
  {
   "cell_type": "markdown",
   "metadata": {
    "colab_type": "text",
    "id": "mmu7CYG0Q58Y"
   },
   "source": [
    "#### Input Features \n",
    "\n",
    "_Season averages up until week of interest, e.g., predictions for Week 5 will use average stats from Weeks 1-4.  Predictions for Week 1 would use the previous year, here I'll just ignore that for the time being._\n",
    "\n",
    "\n",
    "**QB**\n",
    "* `fumbles_lost`\n",
    "* `passer_rating`\n",
    "* `passing_att`\n",
    "* `passing_cmp`\n",
    "* `passing_ints`\n",
    "* `passing_tds`\n",
    "* `passing_yds`\n",
    "* `rushing_att`\n",
    "* `rushing_tds`\n",
    "* `rushing_yds`\n",
    "\n",
    "**DEF**\n",
    "* `passer_rating` (opponent)\n",
    "* `passing_att`\n",
    "* `passing_cmp`\n",
    "* `passing_ints`\n",
    "* `passing_tds`\n",
    "* `passing_yds`\n",
    "* `rushing_att`\n",
    "* `rushing_tds`\n",
    "* `rushing_yds`\n",
    "* `defense_sk`\n",
    "* `defense_sk_yds`\n",
    "* `defense_int`\n",
    "* `defense_qbhits`\n",
    "* `defense_pass_def`\n",
    "\n",
    "\n",
    "**PREDICTIONS** _for upcoming game_\n",
    "* pass yards\n",
    "* pass TDs\n",
    "* rush yards\n",
    "* rush TDs\n",
    "* QB INTs\n",
    "* QB fumbles"
   ]
  },
  {
   "cell_type": "markdown",
   "metadata": {
    "colab_type": "text",
    "id": "Mx8Sp5FdyNsz"
   },
   "source": [
    "Create and begin filling the database:"
   ]
  },
  {
   "cell_type": "code",
   "execution_count": 15,
   "metadata": {
    "colab": {},
    "colab_type": "code",
    "id": "gHMFqTdnW8SV"
   },
   "outputs": [],
   "source": [
    "sqlite_file = '../data/nflgame{0}_db.sqlite'.format(ffyear) # sqlite database\n",
    "\n",
    "# Connecting to the database file\n",
    "conn = sqlite3.connect(sqlite_file)\n",
    "c = conn.cursor()\n",
    "\n",
    "# Creating a new SQLite table with 1 column for TBrady\n",
    "c.execute('CREATE TABLE tb12 (passing_tds INTEGER)')\n",
    "\n",
    "# Creating the other tables with 1 column for DEFs\n",
    "for opp in unique_opps:\n",
    "    c.execute('CREATE TABLE {0} (passer_rating REAL)'.format(opp))\n",
    "\n",
    "# Committing changes and closing the connection to the database file\n",
    "conn.commit()\n",
    "conn.close()"
   ]
  },
  {
   "cell_type": "markdown",
   "metadata": {
    "colab_type": "text",
    "id": "YqmiLR_WuKoZ"
   },
   "source": [
    "Now that we initialized the database, let's add the other columns to each table"
   ]
  },
  {
   "cell_type": "code",
   "execution_count": 16,
   "metadata": {
    "colab": {},
    "colab_type": "code",
    "id": "xBgXEpOWuKIY"
   },
   "outputs": [],
   "source": [
    "# Connecting to the database file\n",
    "conn = sqlite3.connect(sqlite_file)\n",
    "c = conn.cursor()\n",
    "\n",
    "# remaining columns to add\n",
    "tb12_columns = [\n",
    "('fumbles_lost','INTEGER'),\n",
    "('passer_rating','REAL'),\n",
    "('passing_att','INTEGER'),\n",
    "('passing_cmp','INTEGER'),\n",
    "('passing_ints','INTEGER'),\n",
    "('passing_yds','INTEGER'),\n",
    "('rushing_att','INTEGER'),\n",
    "('rushing_tds','INTEGER'),\n",
    "('rushing_yds','INTEGER')]\n",
    "\n",
    "# Altering TB12\n",
    "for column in tb12_columns:\n",
    "    c.execute(\"ALTER TABLE tb12 ADD COLUMN '{cn}' {ct}\"\\\n",
    "              .format(cn=column[0], ct=column[1]))\n",
    "\n",
    "# Committing changes and closing the connection to the database file\n",
    "conn.commit()\n",
    "conn.close()"
   ]
  },
  {
   "cell_type": "code",
   "execution_count": 17,
   "metadata": {
    "colab": {},
    "colab_type": "code",
    "id": "92rg0opvud8j"
   },
   "outputs": [],
   "source": [
    "# Connecting to the database file\n",
    "conn = sqlite3.connect(sqlite_file)\n",
    "c = conn.cursor()\n",
    "\n",
    "def_columns = [\n",
    "('passing_att','INTEGER'),\n",
    "('passing_cmp','INTEGER'),\n",
    "('passing_ints','INTEGER'),\n",
    "('passing_tds','INTEGER'),\n",
    "('passing_yds','INTEGER'),\n",
    "('rushing_att','INTEGER'),\n",
    "('rushing_tds','INTEGER'),\n",
    "('rushing_yds','INTEGER'),\n",
    "('defense_sk','INTEGER'),\n",
    "('defense_sk_yds','INTEGER'),\n",
    "('defense_int','INTEGER'),\n",
    "('defense_qbhits','INTEGER'),\n",
    "('defense_pass_def','INTEGER')]\n",
    "\n",
    "# Altering defenses\n",
    "for opp in unique_opps:\n",
    "    for column in def_columns:\n",
    "        c.execute(\"ALTER TABLE {0} ADD COLUMN '{cn}' {ct}\"\\\n",
    "                  .format(opp, cn=column[0], ct=column[1]))\n",
    "\n",
    "# Committing changes and closing the connection to the database file\n",
    "conn.commit()\n",
    "conn.close()"
   ]
  },
  {
   "cell_type": "code",
   "execution_count": 18,
   "metadata": {
    "colab": {},
    "colab_type": "code",
    "id": "OpKsIC9hD4P8"
   },
   "outputs": [],
   "source": [
    "# add the initial column choices to the list of columns\n",
    "tb12_columns.append(('passing_tds','INTEGER'))\n",
    "def_columns.append(('passer_rating','REAL'))"
   ]
  },
  {
   "cell_type": "markdown",
   "metadata": {
    "colab_type": "text",
    "id": "ovsXOaqkxSwU"
   },
   "source": [
    "Now that I have the database created, it's time to take data from `nflgame` and populate it."
   ]
  },
  {
   "cell_type": "markdown",
   "metadata": {
    "colab_type": "text",
    "id": "zIBCTckg3H6X"
   },
   "source": [
    "Starting with Week 1:"
   ]
  },
  {
   "cell_type": "code",
   "execution_count": 19,
   "metadata": {
    "colab": {
     "base_uri": "https://localhost:8080/",
     "height": 54
    },
    "colab_type": "code",
    "executionInfo": {
     "elapsed": 441,
     "status": "ok",
     "timestamp": 1541780882909,
     "user": {
      "displayName": "Daniel Marley",
      "photoUrl": "https://lh5.googleusercontent.com/-x0vVAUeK8iE/AAAAAAAAAAI/AAAAAAAAABo/BoFiYjkoupU/s64/photo.jpg",
      "userId": "07016772076441564573"
     },
     "user_tz": 360
    },
    "id": "giWUFW7fx9N8",
    "outputId": "11ee225d-3063-488d-bcd4-bc25b5929164"
   },
   "outputs": [
    {
     "name": "stdout",
     "output_type": "stream",
     "text": [
      "{'passing_att': 35, 'rushing_yds': 0, 'fumbles_lost': 0, 'rushing_tds': 0, 'passing_yds': 258, 'passing_cmp': 25, 'passing_ints': 0, 'passing_tds': 3, 'rushing_att': 0, 'passer_rating': 120.9}\n"
     ]
    }
   ],
   "source": [
    "# TB12 Week1 stats\n",
    "stat_names = [i[0] for i in tb12_columns]\n",
    "\n",
    "stat_values = {}\n",
    "stats = tb12.stats(ffyear,week=1)\n",
    "\n",
    "for stat_name in stat_names:\n",
    "    try:\n",
    "        stat_values[stat_name] = getattr(stats,stat_name)()\n",
    "    except:\n",
    "        stat_values[stat_name] = getattr(stats,stat_name)\n",
    "\n",
    "print stat_values"
   ]
  },
  {
   "cell_type": "code",
   "execution_count": 20,
   "metadata": {
    "colab": {},
    "colab_type": "code",
    "id": "NyF3o4qVz79d"
   },
   "outputs": [],
   "source": [
    "# Connecting to the database file\n",
    "conn = sqlite3.connect(sqlite_file)\n",
    "c = conn.cursor()\n",
    "\n",
    "values = ['{0}'.format(stat_values[i]) for i in stat_names]\n",
    "\n",
    "# Insert new data\n",
    "try:\n",
    "    c.execute(\"INSERT INTO tb12 ({0}) VALUES ({1})\".\\\n",
    "        format(','.join(stat_names),','.join(values)))\n",
    "except sqlite3.IntegrityError:\n",
    "    print('ERROR: ID already exists in PRIMARY KEY column {}'.format(id_column))\n",
    "\n",
    "# Committing changes and closing the connection to the database file\n",
    "conn.commit()\n",
    "conn.close()"
   ]
  },
  {
   "cell_type": "code",
   "execution_count": 21,
   "metadata": {
    "colab": {
     "base_uri": "https://localhost:8080/",
     "height": 34
    },
    "colab_type": "code",
    "executionInfo": {
     "elapsed": 226,
     "status": "ok",
     "timestamp": 1541780887391,
     "user": {
      "displayName": "Daniel Marley",
      "photoUrl": "https://lh5.googleusercontent.com/-x0vVAUeK8iE/AAAAAAAAAAI/AAAAAAAAABo/BoFiYjkoupU/s64/photo.jpg",
      "userId": "07016772076441564573"
     },
     "user_tz": 360
    },
    "id": "Kw4Siuz528lc",
    "outputId": "60015eb4-0eed-4c7c-eb95-45268fde6f2d"
   },
   "outputs": [
    {
     "name": "stdout",
     "output_type": "stream",
     "text": [
      "('1):', [(3, 0, 120.9, 35, 25, 0, 258, 0, 0, 0)])\n"
     ]
    }
   ],
   "source": [
    "# Check the database\n",
    "conn = sqlite3.connect(sqlite_file)\n",
    "c = conn.cursor()\n",
    "\n",
    "# 1) Contents of all columns for row that match a certain value in 1 column\n",
    "c.execute('SELECT * FROM tb12')\n",
    "all_rows = c.fetchall()\n",
    "print('1):', all_rows)\n",
    "\n",
    "conn.close()"
   ]
  },
  {
   "cell_type": "code",
   "execution_count": 22,
   "metadata": {
    "colab": {
     "base_uri": "https://localhost:8080/",
     "height": 102
    },
    "colab_type": "code",
    "executionInfo": {
     "elapsed": 214,
     "status": "ok",
     "timestamp": 1541780894591,
     "user": {
      "displayName": "Daniel Marley",
      "photoUrl": "https://lh5.googleusercontent.com/-x0vVAUeK8iE/AAAAAAAAAAI/AAAAAAAAABo/BoFiYjkoupU/s64/photo.jpg",
      "userId": "07016772076441564573"
     },
     "user_tz": 360
    },
    "id": "iqzR1XUd4XPM",
    "outputId": "e7b137b5-6252-4b0e-b627-2ad50f4c37f0"
   },
   "outputs": [
    {
     "name": "stdout",
     "output_type": "stream",
     "text": [
      "   passing_tds  fumbles_lost  passer_rating  passing_att  passing_cmp  \\\n",
      "0            3             0          120.9           35           25   \n",
      "\n",
      "   passing_ints  passing_yds  rushing_att  rushing_tds  rushing_yds  \n",
      "0             0          258            0            0            0  \n"
     ]
    }
   ],
   "source": [
    "# Let's check the database using pandas\n",
    "conn = sqlite3.connect(sqlite_file)\n",
    "print pd.read_sql_query(\"SELECT * FROM tb12\", conn)\n",
    "conn.close()"
   ]
  },
  {
   "cell_type": "markdown",
   "metadata": {
    "colab_type": "text",
    "id": "nGHEBZRc3KKx"
   },
   "source": [
    "And it looks like we were successfully able to populate the TABLE with data!  We can even read it easily with `sqlite3` or `pandas`.  \n",
    "\n",
    "The `pandas` interface could be very nice for later, given my experience using this approach for loading data into ML frameworks.  \n",
    "For now, let's add the rest of the data.\n",
    "\n",
    "NB: There are 17 weeks in an NFL season, but only 16 games (one bye week).  Here I'll try to just skip the bye week and not add an empty entry to the database."
   ]
  },
  {
   "cell_type": "code",
   "execution_count": 23,
   "metadata": {
    "colab": {},
    "colab_type": "code",
    "id": "TuPetERnEuXk"
   },
   "outputs": [],
   "source": [
    "# First, put some of the code used above into a nice, neat function\n",
    "# TB12 Week1 stats\n",
    "def get_tb12_stats(stat_names,week):\n",
    "    stat_values = {}\n",
    "    stats = tb12.stats(ffyear,week=week)\n",
    "\n",
    "    for stat_name in stat_names:\n",
    "        try:\n",
    "            stat_values[stat_name] = getattr(stats,stat_name)()\n",
    "        except:\n",
    "            stat_values[stat_name] = getattr(stats,stat_name)\n",
    "    return stat_values"
   ]
  },
  {
   "cell_type": "code",
   "execution_count": 24,
   "metadata": {
    "colab": {},
    "colab_type": "code",
    "id": "wIpUogzMEir6"
   },
   "outputs": [],
   "source": [
    "allstats = []\n",
    "weeks    = range(2,18)\n",
    "names    = [i[0] for i in tb12_columns]\n",
    "for wk in weeks:\n",
    "    wk_stats = get_tb12_stats(names,wk)\n",
    "    if wk_stats['passing_att'] < 1: continue  # assume this is the bye week, or he just didn't play\n",
    "    allstats.append(wk_stats)"
   ]
  },
  {
   "cell_type": "code",
   "execution_count": 25,
   "metadata": {
    "colab": {},
    "colab_type": "code",
    "id": "IJtDf3Q-GZUv"
   },
   "outputs": [],
   "source": [
    "# Connecting to the database file\n",
    "conn = sqlite3.connect(sqlite_file)\n",
    "c = conn.cursor()\n",
    "\n",
    "# Add all of the new values \n",
    "for allstat in allstats:\n",
    "    values = ['{0}'.format(allstat[i]) for i in names]\n",
    "    \n",
    "    # Insert new data\n",
    "    try:\n",
    "        c.execute(\"INSERT INTO tb12 ({0}) VALUES ({1})\".\\\n",
    "            format(','.join(names),','.join(values)))\n",
    "    except sqlite3.IntegrityError:\n",
    "        print('ERROR: ID already exists in PRIMARY KEY column {}'.format(id_column))\n",
    "\n",
    "# Committing changes and closing the connection to the database file\n",
    "conn.commit()\n",
    "conn.close()"
   ]
  },
  {
   "cell_type": "code",
   "execution_count": 26,
   "metadata": {
    "colab": {
     "base_uri": "https://localhost:8080/",
     "height": 612
    },
    "colab_type": "code",
    "executionInfo": {
     "elapsed": 275,
     "status": "ok",
     "timestamp": 1541781085087,
     "user": {
      "displayName": "Daniel Marley",
      "photoUrl": "https://lh5.googleusercontent.com/-x0vVAUeK8iE/AAAAAAAAAAI/AAAAAAAAABo/BoFiYjkoupU/s64/photo.jpg",
      "userId": "07016772076441564573"
     },
     "user_tz": 360
    },
    "id": "Qx_V5SY_RVFt",
    "outputId": "9ff29cc4-67b8-4498-f911-c3301749e8e7"
   },
   "outputs": [
    {
     "name": "stdout",
     "output_type": "stream",
     "text": [
      "    passing_tds  fumbles_lost  passer_rating  passing_att  passing_cmp  \\\n",
      "0             3             0          120.9           35           25   \n",
      "1             2             1           72.5           36           20   \n",
      "2             3             0          142.6           27           21   \n",
      "3             1             0          107.1           24           19   \n",
      "4             1             0           69.5           44           27   \n",
      "5             1             0           82.7           32           19   \n",
      "6             1             0          100.8           27           16   \n",
      "7             2             0           90.5           36           19   \n",
      "8             3             0          125.1           43           30   \n",
      "9             2             0          123.1           25           19   \n",
      "10            4             0          158.3           27           21   \n",
      "11            4             0          148.9           29           21   \n",
      "12            2             0          113.4           40           27   \n",
      "13            2             0          110.2           24           15   \n",
      "14            3             0          107.0           27           15   \n",
      "15            2             0          145.6           16           10   \n",
      "\n",
      "    passing_ints  passing_yds  rushing_att  rushing_tds  rushing_yds  \n",
      "0              0          258            0            0            0  \n",
      "1              2          248            0            0            0  \n",
      "2              0          252            4            0            6  \n",
      "3              0          153            5            0            6  \n",
      "4              2          292            2            0            1  \n",
      "5              0          159            2            0            1  \n",
      "6              0          240            4            0           -3  \n",
      "7              0          224            1            0            1  \n",
      "8              0          350            1            1            3  \n",
      "9              0          186            4            0           -2  \n",
      "10             0          341            4            0            1  \n",
      "11             0          326            1            0            3  \n",
      "12             0          369            0            0            0  \n",
      "13             0          163            0            0            0  \n",
      "14             0          140            3            0           13  \n",
      "15             0          199            0            0            0  \n"
     ]
    }
   ],
   "source": [
    "# Let's check the database using pandas\n",
    "conn = sqlite3.connect(sqlite_file)\n",
    "print pd.read_sql_query(\"SELECT * FROM tb12\", conn)\n",
    "conn.close()"
   ]
  },
  {
   "cell_type": "markdown",
   "metadata": {
    "colab_type": "text",
    "id": "YxC8AabQSdEk"
   },
   "source": [
    "It looks like we were able to add everything to the database without any issues for Brady's stats, so let's look at adding the stats for each defense now."
   ]
  },
  {
   "cell_type": "code",
   "execution_count": 27,
   "metadata": {
    "colab": {},
    "colab_type": "code",
    "id": "f20ogAzf2Gnx"
   },
   "outputs": [],
   "source": [
    "def opp_qb_stats(year=None,week=None,team=\"\"):\n",
    "    \"\"\"Function to access the statistics of opponent QB\"\"\"\n",
    "    # Attributes we are interested in:\n",
    "    opp_qb_stats = [\n",
    "        'passing_att',\n",
    "        'passing_cmp',\n",
    "        'passing_ints',\n",
    "        'passing_tds',\n",
    "        'passing_yds',\n",
    "        'rushing_att',\n",
    "        'rushing_tds',\n",
    "        'rushing_yds']  # Do `passer_rating` separately because it is different\n",
    "\n",
    "    games = nflgame.games_gen(year, week=week, away=team)\n",
    "    if games is None:\n",
    "        games = nflgame.games_gen(year, week=week, home=team)\n",
    "    if games is None:\n",
    "        return None\n",
    "\n",
    "    players  = nflgame.combine_game_stats(games)\n",
    "    \n",
    "    qb_stats = dict( (k,0) for k in opp_qb_stats)\n",
    "    for i,p in enumerate(players.filter(team__ne=team, passing_att__ge=2)): # try to protect against trick plays\n",
    "        if i==0:\n",
    "            qb_stats['passer_rating'] = p.passer_rating()\n",
    "            for s in opp_qb_stats:\n",
    "                qb_stats[s] = getattr(p,s)\n",
    "        else:\n",
    "            # more than 1 'significant' QB\n",
    "            # sum the stats, but take average QBR\n",
    "            qb_stats['passer_rating'] *= (i)\n",
    "            qb_stats['passer_rating'] += p.passer_rating()\n",
    "            qb_stats['passer_rating'] /= (i+1)\n",
    "            for s in opp_qb_stats:\n",
    "                qb_stats[s] += getattr(p,s)\n",
    "    return qb_stats"
   ]
  },
  {
   "cell_type": "code",
   "execution_count": 28,
   "metadata": {
    "colab": {},
    "colab_type": "code",
    "id": "hPOWXJbUUVvF"
   },
   "outputs": [],
   "source": [
    "def defense_stats(year=None, week=None, team=None):\n",
    "    \"\"\"Function to retrieve defensive statistics per game\"\"\"\n",
    "    if year is None or team is None:\n",
    "        return None\n",
    "\n",
    "    games = nflgame.games_gen(year, week, team, team)\n",
    "    if games is None:\n",
    "        return None    # bye week\n",
    "\n",
    "    plays = nflgame.combine_plays(games)\n",
    "      \n",
    "    defsts = ['defense_sk',\n",
    "      'defense_sk_yds',\n",
    "      'defense_int',\n",
    "      'defense_qbhits',\n",
    "      'defense_pass_def']\n",
    "    d_stats = dict( (k,0) for k in defsts )\n",
    "\n",
    "    for p in plays.filter(team__ne=team):\n",
    "        for ds in defsts:\n",
    "            d_stats[ds] += getattr(p,ds)\n",
    "    return d_stats"
   ]
  },
  {
   "cell_type": "code",
   "execution_count": 29,
   "metadata": {
    "colab": {
     "base_uri": "https://localhost:8080/",
     "height": 71
    },
    "colab_type": "code",
    "executionInfo": {
     "elapsed": 309,
     "status": "ok",
     "timestamp": 1541781170396,
     "user": {
      "displayName": "Daniel Marley",
      "photoUrl": "https://lh5.googleusercontent.com/-x0vVAUeK8iE/AAAAAAAAAAI/AAAAAAAAABo/BoFiYjkoupU/s64/photo.jpg",
      "userId": "07016772076441564573"
     },
     "user_tz": 360
    },
    "id": "v_yB3_vW2c0p",
    "outputId": "47be0a0d-f7b5-4dcf-93a9-b786eafbfe96"
   },
   "outputs": [
    {
     "name": "stdout",
     "output_type": "stream",
     "text": [
      "{'passing_att': 34, 'rushing_yds': -1, 'rushing_tds': 0, 'passing_yds': 182, 'passing_cmp': 21, 'passing_ints': 0, 'passing_tds': 0, 'rushing_att': 2, 'passer_rating': 75.9}\n",
      "{'defense_sk_yds': -18, 'defense_pass_def': 5, 'defense_qbhits': 0, 'defense_int': 0, 'defense_sk': 3.0}\n"
     ]
    }
   ],
   "source": [
    "print opp_qb_stats(ffyear,1,\"BUF\")\n",
    "print defense_stats(ffyear,1,\"BUF\")"
   ]
  },
  {
   "cell_type": "markdown",
   "metadata": {
    "colab_type": "text",
    "id": "kCqJ_20499ID"
   },
   "source": [
    "That seems to work as expected, so let's put that information into the database:"
   ]
  },
  {
   "cell_type": "code",
   "execution_count": 30,
   "metadata": {
    "colab": {},
    "colab_type": "code",
    "id": "_rXoSjM-9_9b"
   },
   "outputs": [],
   "source": [
    "# Connecting to the database file\n",
    "conn = sqlite3.connect(sqlite_file)\n",
    "c = conn.cursor()\n",
    "\n",
    "week = 1\n",
    "# Altering defenses\n",
    "for opp in unique_opps:\n",
    "\n",
    "    # get stats\n",
    "    q = opp_qb_stats(ffyear,week,opp)\n",
    "    d = defense_stats(ffyear,week,opp)\n",
    "\n",
    "    # combine outputs from each function into one dictionary\n",
    "    q.update(d)\n",
    "\n",
    "    # Insert new data\n",
    "    names  = q.keys()\n",
    "    values = ['{0}'.format(q[n]) for n in names]\n",
    "    try:\n",
    "        c.execute(\"INSERT INTO {0} ({1}) VALUES ({2})\".\\\n",
    "            format(opp,','.join(names),','.join(values)))\n",
    "    except sqlite3.IntegrityError:\n",
    "        print('ERROR: ID already exists in PRIMARY KEY column {}'.format(id_column))\n",
    "\n",
    "\n",
    "# Committing changes and closing the connection to the database file\n",
    "conn.commit()\n",
    "conn.close()"
   ]
  },
  {
   "cell_type": "code",
   "execution_count": 31,
   "metadata": {
    "colab": {
     "base_uri": "https://localhost:8080/",
     "height": 170
    },
    "colab_type": "code",
    "executionInfo": {
     "elapsed": 247,
     "status": "ok",
     "timestamp": 1541781195127,
     "user": {
      "displayName": "Daniel Marley",
      "photoUrl": "https://lh5.googleusercontent.com/-x0vVAUeK8iE/AAAAAAAAAAI/AAAAAAAAABo/BoFiYjkoupU/s64/photo.jpg",
      "userId": "07016772076441564573"
     },
     "user_tz": 360
    },
    "id": "VDMXpvUA_sfm",
    "outputId": "44d40e49-a410-48ea-9bc5-cc9b21907eb2"
   },
   "outputs": [
    {
     "name": "stdout",
     "output_type": "stream",
     "text": [
      "PIT\n",
      "   passer_rating  passing_att  passing_cmp  passing_ints  passing_tds  \\\n",
      "0           67.6           44           27             1            0   \n",
      "\n",
      "   passing_yds  rushing_att  rushing_tds  rushing_yds  defense_sk  \\\n",
      "0          252            2            0            4           2   \n",
      "\n",
      "   defense_sk_yds  defense_int  defense_qbhits  defense_pass_def  \n",
      "0             -15            1               0                 5  \n"
     ]
    }
   ],
   "source": [
    "# Let's check that the first week looks okay\n",
    "conn = sqlite3.connect(sqlite_file)\n",
    "print unique_opps[0]\n",
    "print pd.read_sql_query(\"SELECT * FROM {0}\".format(unique_opps[0]), conn)\n",
    "conn.close()"
   ]
  },
  {
   "cell_type": "markdown",
   "metadata": {
    "colab_type": "text",
    "id": "sdYvoVZr_6YS"
   },
   "source": [
    "Seems reasonable, so now let's do the rest of the weeks:"
   ]
  },
  {
   "cell_type": "code",
   "execution_count": 32,
   "metadata": {
    "colab": {},
    "colab_type": "code",
    "id": "V7gey0jQ_9EC"
   },
   "outputs": [],
   "source": [
    "# Connecting to the database file\n",
    "conn = sqlite3.connect(sqlite_file)\n",
    "c = conn.cursor()\n",
    "\n",
    "for week in range(2,18):\n",
    "    # Altering defenses\n",
    "    for opp in unique_opps:\n",
    "    \n",
    "        # get stats\n",
    "        q = opp_qb_stats(ffyear,week,opp)\n",
    "        d = defense_stats(ffyear,week,opp)\n",
    "        if q is None or d is None: continue # bye week\n",
    "    \n",
    "        # combine outputs from each function into one dictionary\n",
    "        q.update(d)\n",
    "    \n",
    "        # Insert new data\n",
    "        names  = q.keys()\n",
    "        values = ['{0}'.format(q[n]) for n in names]\n",
    "        try:\n",
    "            c.execute(\"INSERT INTO {0} ({1}) VALUES ({2})\".\\\n",
    "                format(opp,','.join(names),','.join(values)))\n",
    "        except sqlite3.IntegrityError:\n",
    "            print('ERROR: ID already exists in PRIMARY KEY column {}'.format(id_column))\n",
    "\n",
    "\n",
    "# Committing changes and closing the connection to the database file\n",
    "conn.commit()\n",
    "conn.close()"
   ]
  },
  {
   "cell_type": "markdown",
   "metadata": {
    "colab_type": "text",
    "id": "nvdC4FPwAgM-"
   },
   "source": [
    "And let's have a quick look:"
   ]
  },
  {
   "cell_type": "code",
   "execution_count": 33,
   "metadata": {
    "colab": {
     "base_uri": "https://localhost:8080/",
     "height": 935
    },
    "colab_type": "code",
    "executionInfo": {
     "elapsed": 268,
     "status": "ok",
     "timestamp": 1541781226486,
     "user": {
      "displayName": "Daniel Marley",
      "photoUrl": "https://lh5.googleusercontent.com/-x0vVAUeK8iE/AAAAAAAAAAI/AAAAAAAAABo/BoFiYjkoupU/s64/photo.jpg",
      "userId": "07016772076441564573"
     },
     "user_tz": 360
    },
    "id": "cfiCV1YxAfv8",
    "outputId": "edb0822d-7255-46d3-ac2a-bd8e4c85bc66"
   },
   "outputs": [
    {
     "name": "stdout",
     "output_type": "stream",
     "text": [
      "PIT\n",
      "    passer_rating  passing_att  passing_cmp  passing_ints  passing_tds  \\\n",
      "0           67.60           44           27             1            0   \n",
      "1           64.30           35           24             3            1   \n",
      "2           90.15           37           26             1            0   \n",
      "3           82.70           37           24             1            1   \n",
      "4           80.50           33           23             2            1   \n",
      "5           94.30           36           23             0            1   \n",
      "6          101.00           44           34             1            2   \n",
      "7           88.70           36           22             1            2   \n",
      "8          125.10           43           30             0            3   \n",
      "9           36.55           43           20             2            0   \n",
      "10          67.40           45           23             1            1   \n",
      "11          88.70           33           17             0            1   \n",
      "12          48.70           32           20             3            1   \n",
      "13          92.60           29           19             0            0   \n",
      "14          33.20           23           10             1            0   \n",
      "15          41.60           41           20             3            1   \n",
      "\n",
      "    passing_yds  rushing_att  rushing_tds  rushing_yds  defense_sk  \\\n",
      "0           252            2            0            4         2.0   \n",
      "1           215            4            0           11         4.0   \n",
      "2           251            7            0           22         4.0   \n",
      "3           256            2            0            1         1.0   \n",
      "4           281            4            0           22         4.5   \n",
      "5           257            0            0            0         1.0   \n",
      "6           305            3            0           -2         2.0   \n",
      "7           248            0            0            0         4.0   \n",
      "8           350            1            1            3         0.0   \n",
      "9           168            1            0           12         6.0   \n",
      "10          265            2            0            4         2.0   \n",
      "11          266            3            0           15         4.0   \n",
      "12          178            2            0            0         3.0   \n",
      "13          170            3            1           15         1.0   \n",
      "14           72            0            0            0         4.0   \n",
      "15          209            4            0           19         3.5   \n",
      "\n",
      "    defense_sk_yds  defense_int  defense_qbhits  defense_pass_def  \n",
      "0              -15            1               0                 5  \n",
      "1              -23            3               0                 4  \n",
      "2              -23            1               0                 5  \n",
      "3               -6            1               0                 6  \n",
      "4              -23            2               0                 6  \n",
      "5               -8            0               0                 3  \n",
      "6              -17            1               0                 4  \n",
      "7              -30            1               0                 5  \n",
      "8                0            0               0                 2  \n",
      "9              -47            2               0                 8  \n",
      "10             -10            1               0                11  \n",
      "11             -40            0               0                 5  \n",
      "12             -22            3               0                 7  \n",
      "13               0            0               0                 3  \n",
      "14             -27            1               0                 7  \n",
      "15             -28            3               0                 7  \n"
     ]
    }
   ],
   "source": [
    "conn = sqlite3.connect(sqlite_file)\n",
    "print unique_opps[0]\n",
    "print pd.read_sql_query(\"SELECT * FROM {0}\".format(unique_opps[0]), conn)\n",
    "conn.close()"
   ]
  },
  {
   "cell_type": "markdown",
   "metadata": {
    "colab_type": "text",
    "id": "z4diAkEjAksf"
   },
   "source": [
    "Woot! At first glance everything seems to be filled properly.\n",
    "Now, earlier I mentioned that I wanted to use season averages in the training, not just data from the previous games.\n",
    "\n",
    "With the database created (and saved into the git repository),\n",
    "we can move to the next notebook to start making predictions!"
   ]
  },
  {
   "cell_type": "code",
   "execution_count": null,
   "metadata": {},
   "outputs": [],
   "source": []
  }
 ],
 "metadata": {
  "colab": {
   "collapsed_sections": [],
   "name": "0-fantasy-football.ipynb",
   "provenance": [],
   "version": "0.3.2"
  },
  "kernelspec": {
   "display_name": "Python 2",
   "language": "python",
   "name": "python2"
  },
  "language_info": {
   "codemirror_mode": {
    "name": "ipython",
    "version": 2
   },
   "file_extension": ".py",
   "mimetype": "text/x-python",
   "name": "python",
   "nbconvert_exporter": "python",
   "pygments_lexer": "ipython2",
   "version": "2.7.15"
  }
 },
 "nbformat": 4,
 "nbformat_minor": 1
}
